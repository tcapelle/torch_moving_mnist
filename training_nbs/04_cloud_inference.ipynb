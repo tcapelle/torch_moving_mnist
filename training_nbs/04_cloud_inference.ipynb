{
 "cells": [
  {
   "cell_type": "markdown",
   "id": "51a73f65-48aa-41af-9ae8-4c932615e3f7",
   "metadata": {},
   "source": [
    "# Inference Time Baby 😎"
   ]
  },
  {
   "cell_type": "code",
   "execution_count": 1,
   "id": "af73fc46-e486-4895-8e9a-a3c4ca48ab72",
   "metadata": {},
   "outputs": [],
   "source": [
    "from pathlib import Path\n",
    "from types import SimpleNamespace\n",
    "\n",
    "import matplotlib as mpl\n",
    "mpl.rcParams['image.cmap'] = 'gray_r'\n",
    "\n",
    "import wandb"
   ]
  },
  {
   "cell_type": "code",
   "execution_count": 2,
   "id": "a3e4bd28-39df-4adf-ba7b-4c8c7c2e45f8",
   "metadata": {},
   "outputs": [],
   "source": [
    "dataset_at = 'capecape/gtc/np_dataset:v1'\n",
    "model_at = 'capecape/ddpm_clouds/zdggd0q5_ddpm_clouds:v0'"
   ]
  },
  {
   "cell_type": "markdown",
   "id": "7d8f4e00-5af8-4852-a829-24b11fd078a8",
   "metadata": {},
   "source": [
    "## Grab the Dataset"
   ]
  },
  {
   "cell_type": "code",
   "execution_count": 3,
   "id": "ab87c892-e451-4dde-805f-e9af7d122dcf",
   "metadata": {},
   "outputs": [
    {
     "name": "stderr",
     "output_type": "stream",
     "text": [
      "Failed to detect the name of this notebook, you can set it manually with the WANDB_NOTEBOOK_NAME environment variable to enable code saving.\n",
      "\u001b[34m\u001b[1mwandb\u001b[0m: Currently logged in as: \u001b[33mcapecape\u001b[0m. Use \u001b[1m`wandb login --relogin`\u001b[0m to force relogin\n"
     ]
    },
    {
     "data": {
      "text/html": [
       "Tracking run with wandb version 0.13.9"
      ],
      "text/plain": [
       "<IPython.core.display.HTML object>"
      ]
     },
     "metadata": {},
     "output_type": "display_data"
    },
    {
     "data": {
      "text/html": [
       "Run data is saved locally in <code>/home/tcapelle/wandb/torch_moving_mnist/training_nbs/wandb/run-20230127_162023-o4lrhppv</code>"
      ],
      "text/plain": [
       "<IPython.core.display.HTML object>"
      ]
     },
     "metadata": {},
     "output_type": "display_data"
    },
    {
     "data": {
      "text/html": [
       "Syncing run <strong><a href=\"https://wandb.ai/capecape/ddpm_clouds/runs/o4lrhppv\" target=\"_blank\">fortuitous-kumquat-74</a></strong> to <a href=\"https://wandb.ai/capecape/ddpm_clouds\" target=\"_blank\">Weights & Biases</a> (<a href=\"https://wandb.me/run\" target=\"_blank\">docs</a>)<br/>"
      ],
      "text/plain": [
       "<IPython.core.display.HTML object>"
      ]
     },
     "metadata": {},
     "output_type": "display_data"
    },
    {
     "data": {
      "text/html": [
       " View project at <a href=\"https://wandb.ai/capecape/ddpm_clouds\" target=\"_blank\">https://wandb.ai/capecape/ddpm_clouds</a>"
      ],
      "text/plain": [
       "<IPython.core.display.HTML object>"
      ]
     },
     "metadata": {},
     "output_type": "display_data"
    },
    {
     "data": {
      "text/html": [
       " View run at <a href=\"https://wandb.ai/capecape/ddpm_clouds/runs/o4lrhppv\" target=\"_blank\">https://wandb.ai/capecape/ddpm_clouds/runs/o4lrhppv</a>"
      ],
      "text/plain": [
       "<IPython.core.display.HTML object>"
      ]
     },
     "metadata": {},
     "output_type": "display_data"
    },
    {
     "name": "stderr",
     "output_type": "stream",
     "text": [
      "\u001b[34m\u001b[1mwandb\u001b[0m: Downloading large artifact np_dataset:v1, 7633.24MB. 60 files... \n",
      "\u001b[34m\u001b[1mwandb\u001b[0m:   60 of 60 files downloaded.  \n",
      "Done. 0:0:0.0\n"
     ]
    },
    {
     "data": {
      "text/html": [
       "Waiting for W&B process to finish... <strong style=\"color:green\">(success).</strong>"
      ],
      "text/plain": [
       "<IPython.core.display.HTML object>"
      ]
     },
     "metadata": {},
     "output_type": "display_data"
    },
    {
     "data": {
      "text/html": [
       " View run <strong style=\"color:#cdcd00\">fortuitous-kumquat-74</strong> at: <a href=\"https://wandb.ai/capecape/ddpm_clouds/runs/o4lrhppv\" target=\"_blank\">https://wandb.ai/capecape/ddpm_clouds/runs/o4lrhppv</a><br/>Synced 6 W&B file(s), 0 media file(s), 0 artifact file(s) and 0 other file(s)"
      ],
      "text/plain": [
       "<IPython.core.display.HTML object>"
      ]
     },
     "metadata": {},
     "output_type": "display_data"
    },
    {
     "data": {
      "text/html": [
       "Find logs at: <code>./wandb/run-20230127_162023-o4lrhppv/logs</code>"
      ],
      "text/plain": [
       "<IPython.core.display.HTML object>"
      ]
     },
     "metadata": {},
     "output_type": "display_data"
    }
   ],
   "source": [
    "with wandb.init(project=\"ddpm_clouds\"):\n",
    "    artifact = wandb.use_artifact(dataset_at, type='dataset')\n",
    "    dataset_dir = Path(artifact.download())"
   ]
  },
  {
   "cell_type": "markdown",
   "id": "874d9f31-9460-44d0-b25b-06a6bd26874c",
   "metadata": {},
   "source": [
    "## Grab the trained Model"
   ]
  },
  {
   "cell_type": "code",
   "execution_count": 4,
   "id": "ed59547b-ce2b-4278-b2b2-6142285fb6da",
   "metadata": {},
   "outputs": [
    {
     "data": {
      "text/html": [
       "Tracking run with wandb version 0.13.9"
      ],
      "text/plain": [
       "<IPython.core.display.HTML object>"
      ]
     },
     "metadata": {},
     "output_type": "display_data"
    },
    {
     "data": {
      "text/html": [
       "Run data is saved locally in <code>/home/tcapelle/wandb/torch_moving_mnist/training_nbs/wandb/run-20230127_162032-onrd478h</code>"
      ],
      "text/plain": [
       "<IPython.core.display.HTML object>"
      ]
     },
     "metadata": {},
     "output_type": "display_data"
    },
    {
     "data": {
      "text/html": [
       "Syncing run <strong><a href=\"https://wandb.ai/capecape/ddpm_clouds/runs/onrd478h\" target=\"_blank\">dancing-paper-75</a></strong> to <a href=\"https://wandb.ai/capecape/ddpm_clouds\" target=\"_blank\">Weights & Biases</a> (<a href=\"https://wandb.me/run\" target=\"_blank\">docs</a>)<br/>"
      ],
      "text/plain": [
       "<IPython.core.display.HTML object>"
      ]
     },
     "metadata": {},
     "output_type": "display_data"
    },
    {
     "data": {
      "text/html": [
       " View project at <a href=\"https://wandb.ai/capecape/ddpm_clouds\" target=\"_blank\">https://wandb.ai/capecape/ddpm_clouds</a>"
      ],
      "text/plain": [
       "<IPython.core.display.HTML object>"
      ]
     },
     "metadata": {},
     "output_type": "display_data"
    },
    {
     "data": {
      "text/html": [
       " View run at <a href=\"https://wandb.ai/capecape/ddpm_clouds/runs/onrd478h\" target=\"_blank\">https://wandb.ai/capecape/ddpm_clouds/runs/onrd478h</a>"
      ],
      "text/plain": [
       "<IPython.core.display.HTML object>"
      ]
     },
     "metadata": {},
     "output_type": "display_data"
    },
    {
     "name": "stderr",
     "output_type": "stream",
     "text": [
      "\u001b[34m\u001b[1mwandb\u001b[0m: Downloading large artifact zdggd0q5_ddpm_clouds:v0, 60.78MB. 1 files... \n",
      "\u001b[34m\u001b[1mwandb\u001b[0m:   1 of 1 files downloaded.  \n",
      "Done. 0:0:0.0\n"
     ]
    },
    {
     "data": {
      "text/html": [
       "Waiting for W&B process to finish... <strong style=\"color:green\">(success).</strong>"
      ],
      "text/plain": [
       "<IPython.core.display.HTML object>"
      ]
     },
     "metadata": {},
     "output_type": "display_data"
    },
    {
     "data": {
      "text/html": [
       " View run <strong style=\"color:#cdcd00\">dancing-paper-75</strong> at: <a href=\"https://wandb.ai/capecape/ddpm_clouds/runs/onrd478h\" target=\"_blank\">https://wandb.ai/capecape/ddpm_clouds/runs/onrd478h</a><br/>Synced 6 W&B file(s), 0 media file(s), 0 artifact file(s) and 0 other file(s)"
      ],
      "text/plain": [
       "<IPython.core.display.HTML object>"
      ]
     },
     "metadata": {},
     "output_type": "display_data"
    },
    {
     "data": {
      "text/html": [
       "Find logs at: <code>./wandb/run-20230127_162032-onrd478h/logs</code>"
      ],
      "text/plain": [
       "<IPython.core.display.HTML object>"
      ]
     },
     "metadata": {},
     "output_type": "display_data"
    }
   ],
   "source": [
    "with wandb.init(project=\"ddpm_clouds\"):\n",
    "    artifact = wandb.use_artifact(model_at, type='model')\n",
    "    model_dir = Path(artifact.download())"
   ]
  },
  {
   "cell_type": "markdown",
   "id": "891ca84d-f0d2-4b26-a9aa-d38ce150f156",
   "metadata": {},
   "source": [
    "## everything together"
   ]
  },
  {
   "cell_type": "code",
   "execution_count": 5,
   "id": "151bbf80-b3be-4020-83fe-dd25df85b608",
   "metadata": {},
   "outputs": [],
   "source": [
    "config = SimpleNamespace(    \n",
    "    epochs = 100,\n",
    "    model_name=\"ddpm_clouds\",\n",
    "    noise_steps=1000,\n",
    "    seed = 42,\n",
    "    batch_size = 64,\n",
    "    img_size = 128,\n",
    "    device = \"cuda\",\n",
    "    use_wandb = True,\n",
    "    num_workers=8,\n",
    "    num_frames=3,\n",
    "    lr = 5e-4)"
   ]
  },
  {
   "cell_type": "code",
   "execution_count": 6,
   "id": "14a1ee37-cfe3-43e0-aad1-3c6bf577621b",
   "metadata": {},
   "outputs": [],
   "source": [
    "import torch\n",
    "from fastprogress import progress_bar\n",
    "from diffusers import UNet2DModel\n",
    "\n",
    "from clouds import CloudDataset, ls\n",
    "\n",
    "from torch_moving_mnist.utils import *"
   ]
  },
  {
   "cell_type": "code",
   "execution_count": 7,
   "id": "0288ba23-3af5-4c49-9823-ed360561774c",
   "metadata": {},
   "outputs": [
    {
     "data": {
      "text/html": [
       "\n",
       "<style>\n",
       "    /* Turns off some styling */\n",
       "    progress {\n",
       "        /* gets rid of default border in Firefox and Opera. */\n",
       "        border: none;\n",
       "        /* Needs to be in here for Safari polyfill so background images work as expected. */\n",
       "        background-size: auto;\n",
       "    }\n",
       "    progress:not([value]), progress:not([value])::-webkit-progress-bar {\n",
       "        background: repeating-linear-gradient(45deg, #7e7e7e, #7e7e7e 10px, #5c5c5c 10px, #5c5c5c 20px);\n",
       "    }\n",
       "    .progress-bar-interrupted, .progress-bar-interrupted::-webkit-progress-bar {\n",
       "        background: #F44336;\n",
       "    }\n",
       "</style>\n"
      ],
      "text/plain": [
       "<IPython.core.display.HTML object>"
      ]
     },
     "metadata": {},
     "output_type": "display_data"
    },
    {
     "data": {
      "text/html": [],
      "text/plain": [
       "<IPython.core.display.HTML object>"
      ]
     },
     "metadata": {},
     "output_type": "display_data"
    }
   ],
   "source": [
    "files = ls(Path(dataset_dir))\n",
    "valid_ds = CloudDataset(files[-3:], valid=True, size=config.img_size)"
   ]
  },
  {
   "cell_type": "code",
   "execution_count": 8,
   "id": "f109ac59-b7ef-4620-9e45-73ac8ca0157b",
   "metadata": {},
   "outputs": [],
   "source": [
    "model = UNet2DModel(in_channels=4, out_channels=1, block_out_channels=(32, 64, 128, 256), norm_num_groups=8)"
   ]
  },
  {
   "cell_type": "markdown",
   "id": "b7fce46f-861f-42eb-90d6-0906fa679867",
   "metadata": {},
   "source": [
    "load checkpoint"
   ]
  },
  {
   "cell_type": "code",
   "execution_count": 9,
   "id": "037c6a11-9f57-4710-8a73-aeda035c59b9",
   "metadata": {},
   "outputs": [
    {
     "data": {
      "text/plain": [
       "<All keys matched successfully>"
      ]
     },
     "execution_count": 9,
     "metadata": {},
     "output_type": "execute_result"
    }
   ],
   "source": [
    "model.load_state_dict(torch.load(list(model_dir.glob(\"*.pth\"))[0]))"
   ]
  },
  {
   "cell_type": "code",
   "execution_count": 10,
   "id": "1327376b-9651-4853-9c38-fc55a8d3c058",
   "metadata": {},
   "outputs": [],
   "source": [
    "model = model.to(config.device)"
   ]
  },
  {
   "cell_type": "markdown",
   "id": "421cba75-8534-4403-bd3d-fdf56374fc5e",
   "metadata": {},
   "source": [
    "## Sampling"
   ]
  },
  {
   "cell_type": "code",
   "execution_count": 11,
   "id": "6ea286f8-b53b-4aa6-a669-88c1c50a60ec",
   "metadata": {},
   "outputs": [],
   "source": [
    "betamin,betamax,n_steps = 0.0001,0.02,config.noise_steps\n",
    "beta = torch.linspace(betamin, betamax, n_steps)\n",
    "alpha = 1.-beta\n",
    "alphabar = alpha.cumprod(dim=0)\n",
    "sigma = beta.sqrt()"
   ]
  },
  {
   "cell_type": "code",
   "execution_count": 12,
   "id": "e647779b-c12a-4ac7-8ee7-c435f27464eb",
   "metadata": {},
   "outputs": [],
   "source": [
    "def describe(img):\n",
    "    print(  f\"Image of type: {type(img)}\\n\"\n",
    "            f\"data type:     {img.dtype}\\n\"\n",
    "            f\"shape:         {img.shape}\\n\"\n",
    "            f\"min:           {img.min()}\\n\"\n",
    "            f\"max:           {img.max()}\\n\")"
   ]
  },
  {
   "cell_type": "code",
   "execution_count": 13,
   "id": "0574675e-4275-41f5-9821-661b1cc8054f",
   "metadata": {},
   "outputs": [],
   "source": [
    "@torch.no_grad()\n",
    "def sample(model, xt):\n",
    "    \"Slightly different than the one used during training, takes only a lenght 3 tensor)\"\n",
    "    device = next(model.parameters()).device\n",
    "    past_frames = xt\n",
    "    new_frame = torch.randn_like(xt[:,-1:], dtype=xt.dtype, device=device)\n",
    "    preds = []\n",
    "    for t in progress_bar(reversed(range(n_steps)), total=n_steps, leave=False):\n",
    "        t_batch = torch.full((new_frame.shape[0],), t, device=device, dtype=torch.long)\n",
    "        z = torch.randn(new_frame.shape, device=device) if t > 0 else torch.zeros(new_frame.shape, device=device)\n",
    "        ᾱ_t1 = alphabar[t-1]  if t > 0 else torch.tensor(1)\n",
    "        b̄_t = 1-alphabar[t]\n",
    "        b̄_t1 = 1-ᾱ_t1\n",
    "        noise = model(torch.cat([past_frames, new_frame], dim=1), t_batch).sample\n",
    "        x_0_hat = ((new_frame - b̄_t.sqrt() * noise)/alphabar[t].sqrt())\n",
    "        new_frame = x_0_hat * ᾱ_t1.sqrt()*(1-alpha[t])/b̄_t + new_frame * alpha[t].sqrt()*b̄_t1/b̄_t + sigma[t]*z\n",
    "        preds.append(new_frame.float().cpu())\n",
    "    return preds"
   ]
  },
  {
   "cell_type": "markdown",
   "id": "1f52beac-f2d1-4d87-a4f0-f5afb0851f33",
   "metadata": {},
   "source": [
    "## Inference"
   ]
  },
  {
   "cell_type": "code",
   "execution_count": 14,
   "id": "43276635-c897-4678-acad-8edfd90bf8e1",
   "metadata": {},
   "outputs": [
    {
     "data": {
      "text/plain": [
       "278"
      ]
     },
     "execution_count": 14,
     "metadata": {},
     "output_type": "execute_result"
    }
   ],
   "source": [
    "len(valid_ds)"
   ]
  },
  {
   "cell_type": "code",
   "execution_count": 15,
   "id": "159ebcec-f60c-49ef-aca2-06dc16d5df6b",
   "metadata": {},
   "outputs": [
    {
     "name": "stdout",
     "output_type": "stream",
     "text": [
      "torch.Size([1, 4, 128, 128])\n"
     ]
    },
    {
     "data": {
      "image/png": "[encoded data removed]",
      "text/plain": [
       "<Figure size 640x480 with 4 Axes>"
      ]
     },
     "metadata": {},
     "output_type": "display_data"
    }
   ],
   "source": [
    "idx = 220\n",
    "\n",
    "x0 = valid_ds[idx:idx+1].to(config.device)\n",
    "print(x0.shape)\n",
    "show_images(x0.squeeze())"
   ]
  },
  {
   "cell_type": "code",
   "execution_count": 16,
   "id": "2728a19b-0440-4c87-acfc-71e0b7a3088e",
   "metadata": {},
   "outputs": [
    {
     "name": "stdout",
     "output_type": "stream",
     "text": [
      "Image of type: <class 'torch.Tensor'>\n",
      "data type:     torch.float32\n",
      "shape:         torch.Size([1, 4, 128, 128])\n",
      "min:           -0.4264844059944153\n",
      "max:           0.3712269067764282\n",
      "\n"
     ]
    }
   ],
   "source": [
    "describe(x0)"
   ]
  },
  {
   "cell_type": "code",
   "execution_count": null,
   "id": "72b83a44-7322-4feb-b72f-31ef42344941",
   "metadata": {},
   "outputs": [
    {
     "data": {
      "text/html": [
       "\n",
       "<style>\n",
       "    /* Turns off some styling */\n",
       "    progress {\n",
       "        /* gets rid of default border in Firefox and Opera. */\n",
       "        border: none;\n",
       "        /* Needs to be in here for Safari polyfill so background images work as expected. */\n",
       "        background-size: auto;\n",
       "    }\n",
       "    progress:not([value]), progress:not([value])::-webkit-progress-bar {\n",
       "        background: repeating-linear-gradient(45deg, #7e7e7e, #7e7e7e 10px, #5c5c5c 10px, #5c5c5c 20px);\n",
       "    }\n",
       "    .progress-bar-interrupted, .progress-bar-interrupted::-webkit-progress-bar {\n",
       "        background: #F44336;\n",
       "    }\n",
       "</style>\n"
      ],
      "text/plain": [
       "<IPython.core.display.HTML object>"
      ]
     },
     "metadata": {},
     "output_type": "display_data"
    },
    {
     "data": {
      "text/html": [
       "\n",
       "    <div>\n",
       "      <progress value='639' class='' max='1000' style='width:300px; height:20px; vertical-align: middle;'></progress>\n",
       "      63.90% [639/1000 00:26&lt;00:14]\n",
       "    </div>\n",
       "    "
      ],
      "text/plain": [
       "<IPython.core.display.HTML object>"
      ]
     },
     "metadata": {},
     "output_type": "display_data"
    }
   ],
   "source": [
    "preds = sample(model, x0[:,:-1,...])"
   ]
  },
  {
   "cell_type": "code",
   "execution_count": null,
   "id": "1baa87ab-e335-49e1-acb7-d0fad27bb886",
   "metadata": {},
   "outputs": [],
   "source": [
    "last_frame = preds[-1]\n",
    "last_frame.shape"
   ]
  },
  {
   "cell_type": "code",
   "execution_count": null,
   "id": "3c71878d-c389-4460-8515-dbb7e44e67c7",
   "metadata": {},
   "outputs": [],
   "source": [
    "describe(last_frame)"
   ]
  },
  {
   "cell_type": "code",
   "execution_count": null,
   "id": "0f54e27b-409f-4dbb-810c-e5222e553cb8",
   "metadata": {},
   "outputs": [],
   "source": [
    "show_image(last_frame.squeeze())"
   ]
  },
  {
   "cell_type": "markdown",
   "id": "7043058a-1f47-4a42-828f-5403caadc83e",
   "metadata": {},
   "source": [
    "Compare!"
   ]
  },
  {
   "cell_type": "code",
   "execution_count": null,
   "id": "88b06a3c-6636-4f96-b349-e24cf870173f",
   "metadata": {},
   "outputs": [],
   "source": [
    "show_images(torch.cat([x0, x0[:,:-1], last_frame.to(x0.device)], dim=1).squeeze(), nrows=2)"
   ]
  },
  {
   "cell_type": "code",
   "execution_count": null,
   "id": "4892b11d-20bf-4399-b270-cea262b5335a",
   "metadata": {},
   "outputs": [],
   "source": [
    "x0[:,-3:,...].shape"
   ]
  },
  {
   "cell_type": "code",
   "execution_count": null,
   "id": "ae41ae0f-de0d-4855-8809-6751c71d29bd",
   "metadata": {},
   "outputs": [],
   "source": [
    "def _sample_end(xt):\n",
    "    \"cut the array nd grabs last 3 frames\"\n",
    "    last_frame = sample(model, xt[:,-3:,...])[-1]\n",
    "    return last_frame"
   ]
  },
  {
   "cell_type": "code",
   "execution_count": null,
   "id": "74c1197d-4f9c-4dc4-a90e-cf31d3770eb6",
   "metadata": {},
   "outputs": [],
   "source": [
    "def sample_more(xt, n=1):\n",
    "    \"Autoregressive sampling\"\n",
    "    frames = xt\n",
    "    for _ in progress_bar(range(n), total=n):\n",
    "        new_frame = _sample_end(frames)\n",
    "        frames = torch.cat([frames, new_frame.to(xt.device)], dim=1)\n",
    "    return frames.cpu()"
   ]
  },
  {
   "cell_type": "code",
   "execution_count": null,
   "id": "522c6f15-5ecb-4043-a067-690733adc0bc",
   "metadata": {},
   "outputs": [],
   "source": [
    "N = 2"
   ]
  },
  {
   "cell_type": "code",
   "execution_count": null,
   "id": "806a2733-b5f4-4a08-b346-33cf99754973",
   "metadata": {},
   "outputs": [],
   "source": [
    "frames = sample_more(x0, n=N)"
   ]
  },
  {
   "cell_type": "markdown",
   "id": "be8629fe-bd99-4d39-9930-ec44b004f46a",
   "metadata": {},
   "source": [
    "Samples"
   ]
  },
  {
   "cell_type": "code",
   "execution_count": null,
   "id": "d5e83f6f-4fdc-4016-aa51-653b437d43ca",
   "metadata": {},
   "outputs": [],
   "source": [
    "show_images(frames.squeeze(), figsize=(20,10))"
   ]
  },
  {
   "cell_type": "markdown",
   "id": "15242a52-7a88-47ea-b1ac-e547a7abcf73",
   "metadata": {},
   "source": [
    "GT"
   ]
  },
  {
   "cell_type": "code",
   "execution_count": null,
   "id": "73edc810-947e-4375-b26f-ea93377c8430",
   "metadata": {},
   "outputs": [],
   "source": [
    "show_images(valid_ds[idx:idx+4+N,0,...], figsize=(20,10))"
   ]
  },
  {
   "cell_type": "code",
   "execution_count": null,
   "id": "bcafff9b-e78a-4b78-ad7e-db9e48cbb6e8",
   "metadata": {},
   "outputs": [],
   "source": [
    "import numpy as np\n",
    "\n",
    "def scale(arr):\n",
    "    \"Scales values of array in [0,1]\"\n",
    "    m, M = arr.min(), arr.max()\n",
    "    return (arr - m) / (M - m)\n",
    "\n",
    "def preprocess_frames(data):\n",
    "    sdata = scale(data.squeeze())\n",
    "    # print(sdata.shape)\n",
    "    def tfm(frame):\n",
    "        rframe = 255 * frame\n",
    "        return rframe.cpu().numpy().astype(np.uint8)\n",
    "    return [tfm(frame) for frame in sdata]\n",
    "\n",
    "def to_video(data):\n",
    "    \"create wandb.Video container\"\n",
    "    frames = preprocess_frames(data)\n",
    "    vid = np.stack(frames)[:, None, ...]\n",
    "    return wandb.Video(vid)"
   ]
  },
  {
   "cell_type": "markdown",
   "id": "c8b8f778-7ca1-4e75-884a-93b1e5839b2c",
   "metadata": {},
   "source": [
    "## Log to wandb"
   ]
  },
  {
   "cell_type": "code",
   "execution_count": null,
   "id": "0d4cf756-cf70-4e62-bae3-5eda593ddd8e",
   "metadata": {},
   "outputs": [],
   "source": [
    "N = 7  # number of future frames\n",
    "bs = 8 # how many samples"
   ]
  },
  {
   "cell_type": "code",
   "execution_count": null,
   "id": "a2534b08-8576-4d41-bb13-6a4b4fa9cc11",
   "metadata": {},
   "outputs": [],
   "source": [
    "import random\n",
    "\n",
    "idxs = random.choices(range(len(valid_ds)-N), k=bs)  # select some samples\n",
    "x0 = valid_ds[idxs].to(config.device)"
   ]
  },
  {
   "cell_type": "code",
   "execution_count": null,
   "id": "e6180aa6-5074-4ae4-913c-e86b087385a4",
   "metadata": {},
   "outputs": [],
   "source": [
    "frames = sample_more(x0, N)"
   ]
  },
  {
   "cell_type": "code",
   "execution_count": null,
   "id": "c693af15-9293-4ea3-ac91-f42ee024db4f",
   "metadata": {},
   "outputs": [],
   "source": [
    "i = 0\n",
    "idx = idxs[i]\n",
    "frames[i].shape, valid_ds[idx:idx+4+N,0,...].shape"
   ]
  },
  {
   "cell_type": "code",
   "execution_count": null,
   "id": "bbb31148-85d1-46c5-bc7d-9628a230fab7",
   "metadata": {},
   "outputs": [],
   "source": [
    "def htile(img):\n",
    "    return torch.cat(img.split(1), dim=-1)"
   ]
  },
  {
   "cell_type": "code",
   "execution_count": null,
   "id": "e3340414-4d46-4759-a3e3-61e329a32edb",
   "metadata": {},
   "outputs": [],
   "source": [
    "def vtile(img):\n",
    "    return torch.cat(img.split(1), dim=-2)"
   ]
  },
  {
   "cell_type": "code",
   "execution_count": null,
   "id": "eb6110e3-d9dc-4bc9-8897-fc2ed44fee55",
   "metadata": {},
   "outputs": [],
   "source": [
    "show_image(htile(frames[i]))"
   ]
  },
  {
   "cell_type": "code",
   "execution_count": null,
   "id": "b230eb49-0dd6-4f4d-8415-61bbb3315e74",
   "metadata": {},
   "outputs": [],
   "source": [
    "show_image(vtile(frames[i]))"
   ]
  },
  {
   "cell_type": "code",
   "execution_count": null,
   "id": "bb520b3d-d1a3-4dcb-a3f5-bfdb78f78007",
   "metadata": {},
   "outputs": [],
   "source": [
    "def vhtile(img1, img2):\n",
    "    return vtile(torch.cat([htile(img1), htile(img2)], dim=0))"
   ]
  },
  {
   "cell_type": "code",
   "execution_count": null,
   "id": "c81a30c5-0d77-4dbe-a8bb-f06f9d9a62e4",
   "metadata": {},
   "outputs": [],
   "source": [
    "show_image(vhtile(frames[i], valid_ds[idx:idx+4+N,0,...]), figsize=(20,5))"
   ]
  },
  {
   "cell_type": "code",
   "execution_count": null,
   "id": "43fd5c94-3ba6-4414-a3e9-3b45f54178ac",
   "metadata": {},
   "outputs": [],
   "source": [
    "table = wandb.Table(columns=[\"id\", \"gt\", \"gen\", \"gt/gen\"])"
   ]
  },
  {
   "cell_type": "code",
   "execution_count": null,
   "id": "2d44f887-cdb3-40aa-9841-4293cf71a02f",
   "metadata": {},
   "outputs": [],
   "source": [
    "for i, idx in enumerate(idxs):\n",
    "    pred_vid = to_video(frames[i])\n",
    "    gt_vid = to_video(valid_ds[idx:idx+4+N,0,...])\n",
    "    gt_gen = wandb.Image(vhtile(valid_ds[idx:idx+4+N,0,...], frames[i]))\n",
    "    table.add_data(idx, gt_vid, pred_vid, gt_gen)"
   ]
  },
  {
   "cell_type": "code",
   "execution_count": null,
   "id": "e5346cfb-b05e-4cdb-917c-9ad016ce7653",
   "metadata": {},
   "outputs": [],
   "source": [
    "with wandb.init(project=\"ddpm_clouds\"):\n",
    "    wandb.log({f\"gen_table_{N}\":table})"
   ]
  }
 ],
 "metadata": {
  "kernelspec": {
   "display_name": "Python 3 (ipykernel)",
   "language": "python",
   "name": "python3"
  },
  "language_info": {
   "codemirror_mode": {
    "name": "ipython",
    "version": 3
   },
   "file_extension": ".py",
   "mimetype": "text/x-python",
   "name": "python",
   "nbconvert_exporter": "python",
   "pygments_lexer": "ipython3",
   "version": "3.10.8"
  }
 },
 "nbformat": 4,
 "nbformat_minor": 5
}
