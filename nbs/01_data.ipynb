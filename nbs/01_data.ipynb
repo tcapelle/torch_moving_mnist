{
 "cells": [
  {
   "cell_type": "code",
   "execution_count": null,
   "metadata": {},
   "outputs": [],
   "source": [
    "#| default_exp data"
   ]
  },
  {
   "cell_type": "markdown",
   "metadata": {},
   "source": [
    "# Data functionalities\n",
    "\n",
    "> Generating and importing data"
   ]
  },
  {
   "cell_type": "code",
   "execution_count": null,
   "metadata": {},
   "outputs": [],
   "source": [
    "#| export\n",
    "from types import SimpleNamespace\n",
    "from torchvision.datasets import MNIST"
   ]
  },
  {
   "cell_type": "code",
   "execution_count": null,
   "metadata": {},
   "outputs": [],
   "source": [
    "PATH = \".\""
   ]
  },
  {
   "cell_type": "code",
   "execution_count": null,
   "metadata": {},
   "outputs": [
    {
     "data": {
      "text/plain": [
       "Dataset MNIST\n",
       "    Number of datapoints: 60000\n",
       "    Root location: .\n",
       "    Split: Train"
      ]
     },
     "execution_count": null,
     "metadata": {},
     "output_type": "execute_result"
    }
   ],
   "source": [
    "mnist = MNIST(PATH, download=True)\n",
    "mnist"
   ]
  },
  {
   "cell_type": "code",
   "execution_count": null,
   "metadata": {},
   "outputs": [
    {
     "data": {
      "text/plain": [
       "torch.Size([60000, 28, 28])"
      ]
     },
     "execution_count": null,
     "metadata": {},
     "output_type": "execute_result"
    }
   ],
   "source": [
    "mnist.data.shape"
   ]
  },
  {
   "cell_type": "markdown",
   "metadata": {},
   "source": [
    "## Visualizing the dataset"
   ]
  },
  {
   "cell_type": "code",
   "execution_count": null,
   "metadata": {},
   "outputs": [],
   "source": [
    "from torch_moving_mnist.utils import show_image, show_images"
   ]
  },
  {
   "cell_type": "code",
   "execution_count": null,
   "metadata": {},
   "outputs": [
    {
     "data": {
      "image/png": "[encoded data removed]",
      "text/plain": [
       "<Figure size 640x480 with 5 Axes>"
      ]
     },
     "metadata": {},
     "output_type": "display_data"
    }
   ],
   "source": [
    "show_images(mnist.data[0:5]);"
   ]
  },
  {
   "cell_type": "markdown",
   "metadata": {},
   "source": [
    "## Generating moving mnist sequences:"
   ]
  },
  {
   "cell_type": "code",
   "execution_count": null,
   "metadata": {},
   "outputs": [],
   "source": [
    "#| export\n",
    "import random\n",
    "from typing import List, Dict, Tuple\n",
    "\n",
    "import torch\n",
    "import numpy as np\n",
    "import torch.nn.functional as F\n",
    "import torchvision.transforms as T\n",
    "import torchvision.transforms.functional as TF\n",
    "\n",
    "mnist_stats    = ([0.131], [0.308])"
   ]
  },
  {
   "cell_type": "markdown",
   "metadata": {},
   "source": [
    "We can leverage torchvision's affine transform!"
   ]
  },
  {
   "cell_type": "code",
   "execution_count": null,
   "metadata": {},
   "outputs": [],
   "source": [
    "digit = torch.tensor(mnist.data[[0]])"
   ]
  },
  {
   "cell_type": "code",
   "execution_count": null,
   "metadata": {},
   "outputs": [
    {
     "data": {
      "text/plain": [
       "<AxesSubplot: >"
      ]
     },
     "execution_count": null,
     "metadata": {},
     "output_type": "execute_result"
    },
    {
     "data": {
      "image/png": "[encoded data removed]",
      "text/plain": [
       "<Figure size 100x100 with 1 Axes>"
      ]
     },
     "metadata": {},
     "output_type": "display_data"
    }
   ],
   "source": [
    "show_image(digit)"
   ]
  },
  {
   "cell_type": "code",
   "execution_count": null,
   "metadata": {},
   "outputs": [],
   "source": [
    "angle = 20  # rotation in degrees\n",
    "scale = 1.3 # scaling in percentage (1.0 = no scaling)\n",
    "translate = (2,3) # translation in pixels\n",
    "shear = 15 # deformation on the z-plane"
   ]
  },
  {
   "cell_type": "code",
   "execution_count": null,
   "metadata": {},
   "outputs": [
    {
     "data": {
      "text/plain": [
       "<AxesSubplot: >"
      ]
     },
     "execution_count": null,
     "metadata": {},
     "output_type": "execute_result"
    },
    {
     "data": {
      "image/png": "[encoded data removed]",
      "text/plain": [
       "<Figure size 100x100 with 1 Axes>"
      ]
     },
     "metadata": {},
     "output_type": "display_data"
    }
   ],
   "source": [
    "show_image(TF.affine(digit, angle, translate, scale, shear))"
   ]
  },
  {
   "cell_type": "markdown",
   "metadata": {},
   "source": [
    "we should probably pad first, so we don't get out of the canvas"
   ]
  },
  {
   "cell_type": "code",
   "execution_count": null,
   "metadata": {},
   "outputs": [],
   "source": [
    "#| export\n",
    "def padding(img_size=128, mnist_size=28): return (img_size - mnist_size) // 2"
   ]
  },
  {
   "cell_type": "code",
   "execution_count": null,
   "metadata": {},
   "outputs": [
    {
     "data": {
      "text/plain": [
       "18"
      ]
     },
     "execution_count": null,
     "metadata": {},
     "output_type": "execute_result"
    }
   ],
   "source": [
    "padding(64)"
   ]
  },
  {
   "cell_type": "code",
   "execution_count": null,
   "metadata": {},
   "outputs": [
    {
     "data": {
      "text/plain": [
       "<AxesSubplot: >"
      ]
     },
     "execution_count": null,
     "metadata": {},
     "output_type": "execute_result"
    },
    {
     "data": {
      "image/png": "[encoded data removed]",
      "text/plain": [
       "<Figure size 200x200 with 1 Axes>"
      ]
     },
     "metadata": {},
     "output_type": "display_data"
    }
   ],
   "source": [
    "pdigit = TF.pad(digit, padding=18)  #18 give us a 64x64 image (18x2 + 28)\n",
    "show_image(pdigit)"
   ]
  },
  {
   "cell_type": "code",
   "execution_count": null,
   "metadata": {},
   "outputs": [
    {
     "data": {
      "text/plain": [
       "<AxesSubplot: >"
      ]
     },
     "execution_count": null,
     "metadata": {},
     "output_type": "execute_result"
    },
    {
     "data": {
      "image/png": "[encoded data removed]",
      "text/plain": [
       "<Figure size 200x200 with 1 Axes>"
      ]
     },
     "metadata": {},
     "output_type": "display_data"
    }
   ],
   "source": [
    "show_image(TF.affine(pdigit, angle, (-10,3), scale, shear))"
   ]
  },
  {
   "cell_type": "code",
   "execution_count": null,
   "metadata": {},
   "outputs": [],
   "source": [
    "#| export\n",
    "def linear_schedule(a:float, b:float, n:int=5):\n",
    "    \"equivalent to np.linspace\"\n",
    "    return [i*(b-a)/(n-1) + a for i in range(n)]"
   ]
  },
  {
   "cell_type": "code",
   "execution_count": null,
   "metadata": {},
   "outputs": [
    {
     "data": {
      "text/plain": [
       "[1.0, 5.75, 10.5, 15.25, 20.0]"
      ]
     },
     "execution_count": null,
     "metadata": {},
     "output_type": "execute_result"
    }
   ],
   "source": [
    "linear_schedule(1,20)"
   ]
  },
  {
   "cell_type": "code",
   "execution_count": null,
   "metadata": {},
   "outputs": [
    {
     "data": {
      "text/plain": [
       "[-10.0, -2.5, 5.0, 12.5, 20.0]"
      ]
     },
     "execution_count": null,
     "metadata": {},
     "output_type": "execute_result"
    }
   ],
   "source": [
    "angles = linear_schedule(-10,20)\n",
    "angles"
   ]
  },
  {
   "cell_type": "code",
   "execution_count": null,
   "metadata": {},
   "outputs": [],
   "source": [
    "#| export\n",
    "affine_params = SimpleNamespace(\n",
    "    angle=(-20, 20),\n",
    "    translate=((-30, 30), (-30, 30)),\n",
    "    scale=(.8, 1.3),\n",
    "    shear=(-20, 20),\n",
    ")"
   ]
  },
  {
   "cell_type": "code",
   "execution_count": null,
   "metadata": {},
   "outputs": [],
   "source": [
    "#| export\n",
    "def random_linear_schedule(a:float, b:float, n:int=5):\n",
    "    x = random.uniform(a,b)\n",
    "    y = random.uniform(a,b)\n",
    "    return linear_schedule(x, y, n=n)"
   ]
  },
  {
   "cell_type": "code",
   "execution_count": null,
   "metadata": {},
   "outputs": [
    {
     "data": {
      "text/plain": [
       "[-6.961375626970929,\n",
       " -7.183530278710095,\n",
       " -7.405684930449262,\n",
       " -7.627839582188428,\n",
       " -7.849994233927594]"
      ]
     },
     "execution_count": null,
     "metadata": {},
     "output_type": "execute_result"
    }
   ],
   "source": [
    "random_linear_schedule(-10, 2)"
   ]
  },
  {
   "cell_type": "code",
   "execution_count": null,
   "metadata": {},
   "outputs": [
    {
     "data": {
      "text/plain": [
       "[0.8247449050840815,\n",
       " 0.8585580717120365,\n",
       " 0.8923712383399913,\n",
       " 0.9261844049679463,\n",
       " 0.9599975715959013]"
      ]
     },
     "execution_count": null,
     "metadata": {},
     "output_type": "execute_result"
    }
   ],
   "source": [
    "random_linear_schedule(.8, 1.3)"
   ]
  },
  {
   "cell_type": "code",
   "execution_count": null,
   "metadata": {},
   "outputs": [],
   "source": [
    "#| export\n",
    "class Trajectory:\n",
    "    def __init__(self, \n",
    "                 angle: Tuple[float, float], \n",
    "                 translate: Tuple[Tuple[float, float], Tuple[float,float]], \n",
    "                 scale: Tuple[float, float], \n",
    "                 shear: Tuple[float, float], \n",
    "                 n: int=5):\n",
    "        self.angle_schedule = random_linear_schedule(*angle, n=n)\n",
    "        self.scale_schedule = random_linear_schedule(*scale, n=n)\n",
    "        translate_x = random_linear_schedule(*translate[0], n=n)\n",
    "        translate_y = random_linear_schedule(*translate[1], n=n)\n",
    "        self.translate_schedule = list(zip(translate_x, translate_y))\n",
    "        self.shear_schedule = random_linear_schedule(*shear, n=n)\n",
    "        \n",
    "    def points(self):\n",
    "        return list(zip(self.angle_schedule , self.translate_schedule, self.scale_schedule, self.shear_schedule))\n",
    "            \n",
    "    def apply(self, img):\n",
    "        return [TF.affine(img, *param) for param in self.points()]"
   ]
  },
  {
   "cell_type": "code",
   "execution_count": null,
   "metadata": {},
   "outputs": [
    {
     "data": {
      "image/png": "[encoded data removed]",
      "text/plain": [
       "<Figure size 640x480 with 5 Axes>"
      ]
     },
     "metadata": {},
     "output_type": "display_data"
    }
   ],
   "source": [
    "t = Trajectory(**vars(affine_params))\n",
    "show_images([TF.affine(pdigit, *param) for param in t.points()])"
   ]
  },
  {
   "cell_type": "code",
   "execution_count": null,
   "metadata": {},
   "outputs": [
    {
     "data": {
      "image/png": "[encoded data removed]",
      "text/plain": [
       "<Figure size 640x480 with 5 Axes>"
      ]
     },
     "metadata": {},
     "output_type": "display_data"
    }
   ],
   "source": [
    "params = Trajectory(**vars(affine_params))\n",
    "show_images(params.apply(pdigit))"
   ]
  },
  {
   "cell_type": "code",
   "execution_count": null,
   "metadata": {},
   "outputs": [],
   "source": [
    "#| export\n",
    "import math\n",
    "import random\n",
    "\n",
    "class MovingMNIST:\n",
    "    def __init__(self, path=\".\",  # path to store the MNIST dataset\n",
    "                 affine_params: Dict=affine_params, # affine transform parameters, refer to torchvision.transforms.functional.affine\n",
    "                 num_digits: List[int]=[3], # how many digits to move, random choice between the value provided\n",
    "                 num_frames: int=4, # how many frames to create\n",
    "                 img_size:int=64, # the canvas size, the actual digits are always 28x28\n",
    "                 concat:bool=True, # if we concat the final results (frames, 1, 28, 28) or a list of frames.\n",
    "                 normalize:bool=True # scale images in [0,1] and normalize them with MNIST stats. Applied at batch level. Have to take care of the canvas size that messes up the stats!\n",
    "                ):\n",
    "        self.mnist = MNIST(path, download=True).data\n",
    "        self.affine_params = affine_params\n",
    "        self.num_digits = num_digits\n",
    "        self.num_frames = num_frames\n",
    "        self.img_size = img_size\n",
    "        self.pad = padding(img_size)\n",
    "        self.concat = concat\n",
    "        \n",
    "        # some computation to ensure normalizing correctly-ish\n",
    "        batch_tfms = [T.ConvertImageDtype(torch.float32)]\n",
    "        if normalize:\n",
    "            ratio = (28/img_size)**2*max(num_digits)\n",
    "            mean, std = mnist_stats\n",
    "            scaled_mnist_stats = ([mean[0]*ratio], [std[0]*ratio])\n",
    "            print(f\"New computed stats for MovingMNIST: {scaled_mnist_stats}\")\n",
    "            batch_tfms += [T.Normalize(*scaled_mnist_stats)] if normalize else []\n",
    "        self.batch_tfms = T.Compose(batch_tfms)  \n",
    "    \n",
    "    def random_digit(self):\n",
    "        img = self.mnist[[random.randrange(0, len(self.mnist))]]\n",
    "        return TF.pad(img, padding=self.pad) \n",
    "    \n",
    "    def random_trajectory(self):\n",
    "        return Trajectory(**self.affine_params, n=self.num_frames)\n",
    "    \n",
    "    def _one_moving_digit(self):\n",
    "        digit = self.random_digit()\n",
    "        traj = self.random_trajectory()\n",
    "        return torch.stack(traj.apply(digit))\n",
    "    \n",
    "    def __getitem__(self, i):\n",
    "        moving_digits = [self._one_moving_digit() for _ in range(random.choice(self.num_digits))]\n",
    "        moving_digits = torch.stack(moving_digits)\n",
    "        combined_digits = moving_digits.max(dim=0)[0]\n",
    "        return combined_digits if self.concat else [t.squeeze(dim=0) for t in combined_digits.split(1)]\n",
    "    \n",
    "    def get_batch(self, bs=32):\n",
    "        \"Grab a batch of data\"\n",
    "        batch = torch.stack([self[0] for _ in range(bs)])\n",
    "        return self.batch_tfms(batch) if self.batch_tfms is not None else batch"
   ]
  },
  {
   "cell_type": "markdown",
   "metadata": {},
   "source": [
    "This is an random MNIST Dataset:"
   ]
  },
  {
   "cell_type": "code",
   "execution_count": null,
   "metadata": {},
   "outputs": [
    {
     "data": {
      "text/plain": [
       "(<PIL.Image.Image image mode=L size=28x28>, 5)"
      ]
     },
     "execution_count": null,
     "metadata": {},
     "output_type": "execute_result"
    }
   ],
   "source": [
    "mnist[0]"
   ]
  },
  {
   "cell_type": "code",
   "execution_count": null,
   "metadata": {},
   "outputs": [
    {
     "data": {
      "text/plain": [
       "{'angle': (-20, 20),\n",
       " 'translate': ((-30, 30), (-30, 30)),\n",
       " 'scale': (0.8, 1.3),\n",
       " 'shear': (-20, 20)}"
      ]
     },
     "execution_count": null,
     "metadata": {},
     "output_type": "execute_result"
    }
   ],
   "source": [
    "vars(affine_params)"
   ]
  },
  {
   "cell_type": "code",
   "execution_count": null,
   "metadata": {},
   "outputs": [
    {
     "name": "stdout",
     "output_type": "stream",
     "text": [
      "New computed stats for MovingMNIST: ([0.07522265625], [0.17685937499999999])\n"
     ]
    }
   ],
   "source": [
    "ds = MovingMNIST(affine_params=vars(affine_params))"
   ]
  },
  {
   "cell_type": "code",
   "execution_count": null,
   "metadata": {},
   "outputs": [
    {
     "name": "stdout",
     "output_type": "stream",
     "text": [
      "torch.Size([4, 1, 64, 64])\n"
     ]
    },
    {
     "data": {
      "image/png": "[encoded data removed]",
      "text/plain": [
       "<Figure size 640x480 with 4 Axes>"
      ]
     },
     "metadata": {},
     "output_type": "display_data"
    }
   ],
   "source": [
    "digits = ds[0]\n",
    "print(digits.shape)\n",
    "show_images(digits)"
   ]
  },
  {
   "cell_type": "code",
   "execution_count": null,
   "metadata": {},
   "outputs": [
    {
     "data": {
      "text/plain": [
       "torch.Size([32, 4, 1, 64, 64])"
      ]
     },
     "execution_count": null,
     "metadata": {},
     "output_type": "execute_result"
    }
   ],
   "source": [
    "b = ds.get_batch(bs=32)\n",
    "b.shape"
   ]
  },
  {
   "cell_type": "markdown",
   "metadata": {},
   "source": [
    "without concat"
   ]
  },
  {
   "cell_type": "code",
   "execution_count": null,
   "metadata": {},
   "outputs": [],
   "source": [
    "ds.concat=False"
   ]
  },
  {
   "cell_type": "code",
   "execution_count": null,
   "metadata": {},
   "outputs": [
    {
     "data": {
      "text/plain": [
       "(list, torch.Size([1, 64, 64]))"
      ]
     },
     "execution_count": null,
     "metadata": {},
     "output_type": "execute_result"
    }
   ],
   "source": [
    "type(ds[0]), ds[0][0].shape"
   ]
  },
  {
   "cell_type": "code",
   "execution_count": null,
   "metadata": {},
   "outputs": [],
   "source": [
    "#| hide\n",
    "import nbdev; nbdev.nbdev_export()"
   ]
  }
 ],
 "metadata": {
  "kernelspec": {
   "display_name": "Python 3 (ipykernel)",
   "language": "python",
   "name": "python3"
  }
 },
 "nbformat": 4,
 "nbformat_minor": 4
}
