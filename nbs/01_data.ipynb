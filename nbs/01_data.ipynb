{
 "cells": [
  {
   "cell_type": "code",
   "execution_count": 1,
   "metadata": {},
   "outputs": [],
   "source": [
    "#| default_exp data"
   ]
  },
  {
   "cell_type": "markdown",
   "metadata": {},
   "source": [
    "# Data functionalities\n",
    "\n",
    "> Generating and importing data"
   ]
  },
  {
   "cell_type": "code",
   "execution_count": 2,
   "metadata": {},
   "outputs": [],
   "source": [
    "#| export\n",
    "from types import SimpleNamespace\n",
    "from torchvision.datasets import MNIST"
   ]
  },
  {
   "cell_type": "code",
   "execution_count": 3,
   "metadata": {},
   "outputs": [],
   "source": [
    "PATH = \".\""
   ]
  },
  {
   "cell_type": "code",
   "execution_count": 4,
   "metadata": {},
   "outputs": [
    {
     "data": {
      "text/plain": [
       "Dataset MNIST\n",
       "    Number of datapoints: 60000\n",
       "    Root location: .\n",
       "    Split: Train"
      ]
     },
     "execution_count": 4,
     "metadata": {},
     "output_type": "execute_result"
    }
   ],
   "source": [
    "mnist = MNIST(PATH, download=True)\n",
    "mnist"
   ]
  },
  {
   "cell_type": "code",
   "execution_count": 5,
   "metadata": {},
   "outputs": [
    {
     "data": {
      "text/plain": [
       "torch.Size([60000, 28, 28])"
      ]
     },
     "execution_count": 5,
     "metadata": {},
     "output_type": "execute_result"
    }
   ],
   "source": [
    "mnist.data.shape"
   ]
  },
  {
   "cell_type": "markdown",
   "metadata": {},
   "source": [
    "## Visualizing the dataset"
   ]
  },
  {
   "cell_type": "code",
   "execution_count": 6,
   "metadata": {},
   "outputs": [],
   "source": [
    "from torch_moving_mnist.utils import show_image, show_images"
   ]
  },
  {
   "cell_type": "code",
   "execution_count": 7,
   "metadata": {},
   "outputs": [
    {
     "data": {
      "image/png": "[encoded data removed]",
      "text/plain": [
       "<Figure size 640x480 with 5 Axes>"
      ]
     },
     "metadata": {},
     "output_type": "display_data"
    }
   ],
   "source": [
    "show_images(mnist.data[0:5]);"
   ]
  },
  {
   "cell_type": "markdown",
   "metadata": {},
   "source": [
    "## Generating moving mnist sequences:"
   ]
  },
  {
   "cell_type": "code",
   "execution_count": 8,
   "metadata": {},
   "outputs": [],
   "source": [
    "#| export\n",
    "import random\n",
    "\n",
    "import torch\n",
    "import numpy as np\n",
    "import torch.nn.functional as F\n",
    "import torchvision.transforms as T\n",
    "import torchvision.transforms.functional as TF\n",
    "\n",
    "from fastprogress import progress_bar\n",
    "\n",
    "mnist_stats    = ([0.131], [0.308])"
   ]
  },
  {
   "cell_type": "markdown",
   "metadata": {},
   "source": [
    "We can leverage torchvision's affine transform!"
   ]
  },
  {
   "cell_type": "code",
   "execution_count": 9,
   "metadata": {},
   "outputs": [],
   "source": [
    "digit = torch.tensor(mnist.data[[0]])"
   ]
  },
  {
   "cell_type": "code",
   "execution_count": 10,
   "metadata": {},
   "outputs": [
    {
     "data": {
      "text/plain": [
       "<AxesSubplot: >"
      ]
     },
     "execution_count": 10,
     "metadata": {},
     "output_type": "execute_result"
    },
    {
     "data": {
      "image/png": "[encoded data removed]",
      "text/plain": [
       "<Figure size 100x100 with 1 Axes>"
      ]
     },
     "metadata": {},
     "output_type": "display_data"
    }
   ],
   "source": [
    "show_image(digit)"
   ]
  },
  {
   "cell_type": "code",
   "execution_count": 11,
   "metadata": {},
   "outputs": [],
   "source": [
    "angle = 20  # rotation in degrees\n",
    "scale = 1.3 # scaling in percentage (1.0 = no scaling)\n",
    "translate = (2,3) # translation in pixels\n",
    "shear = 15 # deformation on the z-plane"
   ]
  },
  {
   "cell_type": "code",
   "execution_count": 12,
   "metadata": {},
   "outputs": [
    {
     "data": {
      "text/plain": [
       "<AxesSubplot: >"
      ]
     },
     "execution_count": 12,
     "metadata": {},
     "output_type": "execute_result"
    },
    {
     "data": {
      "image/png": "[encoded data removed]",
      "text/plain": [
       "<Figure size 100x100 with 1 Axes>"
      ]
     },
     "metadata": {},
     "output_type": "display_data"
    }
   ],
   "source": [
    "show_image(TF.affine(digit, angle, translate, scale, shear))"
   ]
  },
  {
   "cell_type": "markdown",
   "metadata": {},
   "source": [
    "we should probably pad first, so we don't get out of the canvas"
   ]
  },
  {
   "cell_type": "code",
   "execution_count": 13,
   "metadata": {},
   "outputs": [],
   "source": [
    "#| export\n",
    "def padding(img_size=128, mnist_size=28): return (img_size - mnist_size) // 2"
   ]
  },
  {
   "cell_type": "code",
   "execution_count": 14,
   "metadata": {},
   "outputs": [
    {
     "data": {
      "text/plain": [
       "18"
      ]
     },
     "execution_count": 14,
     "metadata": {},
     "output_type": "execute_result"
    }
   ],
   "source": [
    "padding(64)"
   ]
  },
  {
   "cell_type": "code",
   "execution_count": 15,
   "metadata": {},
   "outputs": [
    {
     "data": {
      "text/plain": [
       "<AxesSubplot: >"
      ]
     },
     "execution_count": 15,
     "metadata": {},
     "output_type": "execute_result"
    },
    {
     "data": {
      "image/png": "[encoded data removed]",
      "text/plain": [
       "<Figure size 200x200 with 1 Axes>"
      ]
     },
     "metadata": {},
     "output_type": "display_data"
    }
   ],
   "source": [
    "pdigit = TF.pad(digit, padding=18)  #18 give us a 64x64 image (18x2 + 28)\n",
    "show_image(pdigit)"
   ]
  },
  {
   "cell_type": "code",
   "execution_count": 16,
   "metadata": {},
   "outputs": [
    {
     "data": {
      "text/plain": [
       "<AxesSubplot: >"
      ]
     },
     "execution_count": 16,
     "metadata": {},
     "output_type": "execute_result"
    },
    {
     "data": {
      "image/png": "[encoded data removed]",
      "text/plain": [
       "<Figure size 200x200 with 1 Axes>"
      ]
     },
     "metadata": {},
     "output_type": "display_data"
    }
   ],
   "source": [
    "show_image(TF.affine(pdigit, angle, (-10,3), scale, shear))"
   ]
  },
  {
   "cell_type": "code",
   "execution_count": 17,
   "metadata": {},
   "outputs": [],
   "source": [
    "#| export\n",
    "def linear_schedule(a, b, n=5):\n",
    "    \"equivalent to np.linspace\"\n",
    "    return [i*(b-a)/(n-1) + a for i in range(n)]"
   ]
  },
  {
   "cell_type": "code",
   "execution_count": 18,
   "metadata": {},
   "outputs": [
    {
     "data": {
      "text/plain": [
       "[1.0, 5.75, 10.5, 15.25, 20.0]"
      ]
     },
     "execution_count": 18,
     "metadata": {},
     "output_type": "execute_result"
    }
   ],
   "source": [
    "linear_schedule(1,20)"
   ]
  },
  {
   "cell_type": "code",
   "execution_count": 19,
   "metadata": {},
   "outputs": [
    {
     "data": {
      "text/plain": [
       "[-10.0, -2.5, 5.0, 12.5, 20.0]"
      ]
     },
     "execution_count": 19,
     "metadata": {},
     "output_type": "execute_result"
    }
   ],
   "source": [
    "angles = linear_schedule(-10,20)\n",
    "angles"
   ]
  },
  {
   "cell_type": "code",
   "execution_count": 20,
   "metadata": {},
   "outputs": [],
   "source": [
    "#| export\n",
    "affine_params = dict(\n",
    "    angle=(-10, 10), # rotation in degrees (min and max values)\n",
    "    translate=((-20, 20), (-20, 20)), # translation in pixels x and y\n",
    "    scale=(.8, 1.3), # scaling in percentage (1.0 = no scaling)\n",
    "    # shear=(-10, 10), # deformation on the z-plane\n",
    "    shear=(0,0),\n",
    ")"
   ]
  },
  {
   "cell_type": "code",
   "execution_count": 21,
   "metadata": {},
   "outputs": [],
   "source": [
    "#| export\n",
    "def random_linear_schedule(a, b, n=5):\n",
    "    x = random.uniform(a,b)\n",
    "    y = random.uniform(a,b)\n",
    "    return linear_schedule(x, y, n=n)"
   ]
  },
  {
   "cell_type": "code",
   "execution_count": 22,
   "metadata": {},
   "outputs": [
    {
     "data": {
      "text/plain": [
       "[0.5049194776424422,\n",
       " -0.1782115380559861,\n",
       " -0.8613425537544144,\n",
       " -1.5444735694528426,\n",
       " -2.227604585151271]"
      ]
     },
     "execution_count": 22,
     "metadata": {},
     "output_type": "execute_result"
    }
   ],
   "source": [
    "random_linear_schedule(-10, 2)"
   ]
  },
  {
   "cell_type": "code",
   "execution_count": 23,
   "metadata": {},
   "outputs": [
    {
     "data": {
      "text/plain": [
       "[1.28019964910286,\n",
       " 1.1701371006922365,\n",
       " 1.060074552281613,\n",
       " 0.9500120038709896,\n",
       " 0.8399494554603661]"
      ]
     },
     "execution_count": 23,
     "metadata": {},
     "output_type": "execute_result"
    }
   ],
   "source": [
    "random_linear_schedule(.8, 1.3)"
   ]
  },
  {
   "cell_type": "code",
   "execution_count": 24,
   "metadata": {},
   "outputs": [],
   "source": [
    "#| export\n",
    "class Trajectory:\n",
    "    def __init__(self, angle, translate, scale, shear, n=5):\n",
    "        self.angle_schedule = random_linear_schedule(*angle, n=n)\n",
    "        self.scale_schedule = random_linear_schedule(*scale, n=n)\n",
    "        translate_x = random_linear_schedule(*translate[0], n=n)\n",
    "        translate_y = random_linear_schedule(*translate[1], n=n)\n",
    "        self.translate_schedule = list(zip(translate_x, translate_y))\n",
    "        self.shear_schedule = random_linear_schedule(*shear, n=n)\n",
    "        \n",
    "    def points(self):\n",
    "        return list(zip(self.angle_schedule , self.translate_schedule, self.scale_schedule, self.shear_schedule))\n",
    "            \n",
    "    def apply(self, img):\n",
    "        return [TF.affine(img, *param) for param in self.points()]"
   ]
  },
  {
   "cell_type": "code",
   "execution_count": 25,
   "metadata": {},
   "outputs": [
    {
     "data": {
      "image/png": "[encoded data removed]",
      "text/plain": [
       "<Figure size 640x480 with 5 Axes>"
      ]
     },
     "metadata": {},
     "output_type": "display_data"
    }
   ],
   "source": [
    "t = Trajectory(**affine_params)\n",
    "show_images([TF.affine(pdigit, *param) for param in t.points()])"
   ]
  },
  {
   "cell_type": "code",
   "execution_count": 26,
   "metadata": {},
   "outputs": [
    {
     "data": {
      "image/png": "[encoded data removed]",
      "text/plain": [
       "<Figure size 640x480 with 5 Axes>"
      ]
     },
     "metadata": {},
     "output_type": "display_data"
    }
   ],
   "source": [
    "params = Trajectory(**affine_params)\n",
    "show_images(params.apply(pdigit))"
   ]
  },
  {
   "cell_type": "markdown",
   "metadata": {},
   "source": [
    "it also works on batches"
   ]
  },
  {
   "cell_type": "code",
   "execution_count": 27,
   "metadata": {},
   "outputs": [],
   "source": [
    "two_pdigits = torch.stack([pdigit, pdigit], dim=0)"
   ]
  },
  {
   "cell_type": "code",
   "execution_count": 28,
   "metadata": {},
   "outputs": [
    {
     "data": {
      "image/png": "[encoded data removed]",
      "text/plain": [
       "<Figure size 640x480 with 2 Axes>"
      ]
     },
     "metadata": {},
     "output_type": "display_data"
    }
   ],
   "source": [
    "show_images(params.apply(two_pdigits)[0])"
   ]
  },
  {
   "cell_type": "code",
   "execution_count": 44,
   "metadata": {},
   "outputs": [],
   "source": [
    "#| export\n",
    "import math\n",
    "import random\n",
    "\n",
    "class MovingMNIST:\n",
    "    def __init__(self, path=\".\",  # path to store the MNIST dataset\n",
    "                 affine_params: dict=affine_params, # affine transform parameters, refer to torchvision.transforms.functional.affine\n",
    "                 num_digits: list[int]=[3], # how many digits to move, random choice between the value provided\n",
    "                 num_frames: int=4, # how many frames to create\n",
    "                 img_size=64, # the canvas size, the actual digits are always 28x28\n",
    "                 concat=True, # if we concat the final results (frames, 1, 28, 28) or a list of frames.\n",
    "                 normalize=True, # scale images in [0,1] and normalize them with MNIST stats. Applied at batch level. Have to take care of the canvas size that messes up the stats!\n",
    "                ):\n",
    "        self.mnist = MNIST(path, download=True).data\n",
    "        self.affine_params = affine_params\n",
    "        self.num_digits = num_digits\n",
    "        self.num_frames = num_frames\n",
    "        self.img_size = img_size\n",
    "        self.pad = padding(img_size)\n",
    "        self.concat = concat\n",
    "        \n",
    "        # some computation to ensure normalizing correctly-ish\n",
    "        batch_tfms = [T.ConvertImageDtype(torch.float32)]\n",
    "        if normalize:\n",
    "            ratio = (28/img_size)**2*max(num_digits)\n",
    "            mean, std = mnist_stats\n",
    "            scaled_mnist_stats = ([mean[0]*ratio], [std[0]*ratio])\n",
    "            print(f\"New computed stats for MovingMNIST: {scaled_mnist_stats}\")\n",
    "            batch_tfms += [T.Normalize(*scaled_mnist_stats)] if normalize else []\n",
    "        self.batch_tfms = T.Compose(batch_tfms)  \n",
    "    \n",
    "    def random_digit(self):\n",
    "        img = self.mnist[[random.randrange(0, len(self.mnist))]]\n",
    "        return TF.pad(img, padding=self.pad) \n",
    "    \n",
    "    def random_trajectory(self):\n",
    "        return Trajectory(**self.affine_params, n=self.num_frames)\n",
    "    \n",
    "    def _one_moving_digit(self):\n",
    "        digit = self.random_digit()\n",
    "        traj = self.random_trajectory()\n",
    "        return torch.stack(traj.apply(digit))\n",
    "    \n",
    "    def __getitem__(self, i):\n",
    "        moving_digits = [self._one_moving_digit() for _ in range(random.choice(self.num_digits))]\n",
    "        moving_digits = torch.stack(moving_digits)\n",
    "        combined_digits = moving_digits.max(dim=0)[0]\n",
    "        return combined_digits if self.concat else [t.squeeze(dim=0) for t in combined_digits.split(1)]\n",
    "    \n",
    "    def get_batch(self, bs=32):\n",
    "        \"Grab a batch of data\"\n",
    "        batch = torch.stack([self[0] for _ in range(bs)])\n",
    "        return self.batch_tfms(batch) if self.batch_tfms is not None else batch\n",
    "    \n",
    "    def save(self, fname=\"mmnist.pt\", n_batches=2, bs=32):\n",
    "        data = [] \n",
    "        for _ in progress_bar(range(n_batches)):\n",
    "            data.append(self.get_batch(bs=bs))\n",
    "        \n",
    "        data = torch.cat(data, dim=0)\n",
    "        print(\"Saving dataset\")\n",
    "        torch.save(data, f\"{fname}\")"
   ]
  },
  {
   "cell_type": "markdown",
   "metadata": {},
   "source": [
    "This is an random MNIST Dataset:"
   ]
  },
  {
   "cell_type": "code",
   "execution_count": 45,
   "metadata": {},
   "outputs": [
    {
     "data": {
      "text/plain": [
       "(<PIL.Image.Image image mode=L size=28x28>, 5)"
      ]
     },
     "execution_count": 45,
     "metadata": {},
     "output_type": "execute_result"
    }
   ],
   "source": [
    "mnist[0]"
   ]
  },
  {
   "cell_type": "code",
   "execution_count": 46,
   "metadata": {},
   "outputs": [
    {
     "data": {
      "text/plain": [
       "{'angle': (-10, 10),\n",
       " 'translate': ((-20, 20), (-20, 20)),\n",
       " 'scale': (0.8, 1.3),\n",
       " 'shear': (0, 0)}"
      ]
     },
     "execution_count": 46,
     "metadata": {},
     "output_type": "execute_result"
    }
   ],
   "source": [
    "affine_params"
   ]
  },
  {
   "cell_type": "code",
   "execution_count": 49,
   "metadata": {},
   "outputs": [
    {
     "name": "stdout",
     "output_type": "stream",
     "text": [
      "New computed stats for MovingMNIST: ([0.050148437500000004], [0.11790625])\n"
     ]
    }
   ],
   "source": [
    "ds = MovingMNIST(affine_params=affine_params, num_frames=10, num_digits=[1,2])"
   ]
  },
  {
   "cell_type": "code",
   "execution_count": 50,
   "metadata": {},
   "outputs": [
    {
     "name": "stdout",
     "output_type": "stream",
     "text": [
      "torch.Size([10, 1, 64, 64])\n"
     ]
    },
    {
     "data": {
      "image/png": "[encoded data removed]",
      "text/plain": [
       "<Figure size 640x480 with 10 Axes>"
      ]
     },
     "metadata": {},
     "output_type": "display_data"
    }
   ],
   "source": [
    "digits = ds[0]\n",
    "print(digits.shape)\n",
    "show_images(digits)"
   ]
  },
  {
   "cell_type": "code",
   "execution_count": 51,
   "metadata": {},
   "outputs": [
    {
     "data": {
      "text/plain": [
       "torch.Size([32, 10, 1, 64, 64])"
      ]
     },
     "execution_count": 51,
     "metadata": {},
     "output_type": "execute_result"
    }
   ],
   "source": [
    "b = ds.get_batch(bs=32)\n",
    "b.shape"
   ]
  },
  {
   "cell_type": "code",
   "execution_count": 53,
   "metadata": {},
   "outputs": [
    {
     "data": {
      "text/html": [
       "\n",
       "<style>\n",
       "    /* Turns off some styling */\n",
       "    progress {\n",
       "        /* gets rid of default border in Firefox and Opera. */\n",
       "        border: none;\n",
       "        /* Needs to be in here for Safari polyfill so background images work as expected. */\n",
       "        background-size: auto;\n",
       "    }\n",
       "    progress:not([value]), progress:not([value])::-webkit-progress-bar {\n",
       "        background: repeating-linear-gradient(45deg, #7e7e7e, #7e7e7e 10px, #5c5c5c 10px, #5c5c5c 20px);\n",
       "    }\n",
       "    .progress-bar-interrupted, .progress-bar-interrupted::-webkit-progress-bar {\n",
       "        background: #F44336;\n",
       "    }\n",
       "</style>\n"
      ],
      "text/plain": [
       "<IPython.core.display.HTML object>"
      ]
     },
     "metadata": {},
     "output_type": "display_data"
    },
    {
     "data": {
      "text/html": [
       "\n",
       "    <div>\n",
       "      <progress value='2' class='' max='2' style='width:300px; height:20px; vertical-align: middle;'></progress>\n",
       "      100.00% [2/2 00:00&lt;00:00]\n",
       "    </div>\n",
       "    "
      ],
      "text/plain": [
       "<IPython.core.display.HTML object>"
      ]
     },
     "metadata": {},
     "output_type": "display_data"
    },
    {
     "name": "stdout",
     "output_type": "stream",
     "text": [
      "Saving dataset\n"
     ]
    }
   ],
   "source": [
    "ds.save(n_batches=2, bs=16, fname=\"mini_mmnist.pt\")"
   ]
  },
  {
   "cell_type": "markdown",
   "metadata": {},
   "source": [
    "without concat"
   ]
  },
  {
   "cell_type": "code",
   "execution_count": 33,
   "metadata": {},
   "outputs": [],
   "source": [
    "ds.concat=False"
   ]
  },
  {
   "cell_type": "code",
   "execution_count": 34,
   "metadata": {},
   "outputs": [
    {
     "data": {
      "text/plain": [
       "(list, torch.Size([1, 64, 64]))"
      ]
     },
     "execution_count": 34,
     "metadata": {},
     "output_type": "execute_result"
    }
   ],
   "source": [
    "type(ds[0]), ds[0][0].shape"
   ]
  },
  {
   "cell_type": "code",
   "execution_count": 3,
   "metadata": {},
   "outputs": [],
   "source": [
    "#| hide\n",
    "import nbdev; nbdev.nbdev_export()"
   ]
  }
 ],
 "metadata": {
  "kernelspec": {
   "display_name": "Python 3 (ipykernel)",
   "language": "python",
   "name": "python3"
  },
  "language_info": {
   "codemirror_mode": {
    "name": "ipython",
    "version": 3
   },
   "file_extension": ".py",
   "mimetype": "text/x-python",
   "name": "python",
   "nbconvert_exporter": "python",
   "pygments_lexer": "ipython3",
   "version": "3.10.8"
  }
 },
 "nbformat": 4,
 "nbformat_minor": 4
}
