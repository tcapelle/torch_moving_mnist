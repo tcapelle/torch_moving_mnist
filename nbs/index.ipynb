{
 "cells": [
  {
   "cell_type": "code",
   "execution_count": null,
   "metadata": {},
   "outputs": [],
   "source": [
    "#| hide\n",
    "from torch_moving_mnist.data import *"
   ]
  },
  {
   "cell_type": "markdown",
   "metadata": {},
   "source": [
    "# torch_moving_mnist\n",
    "\n",
    "> A simple Dataset generator for Moving Mnist"
   ]
  },
  {
   "cell_type": "markdown",
   "metadata": {},
   "source": [
    "## Install"
   ]
  },
  {
   "cell_type": "markdown",
   "metadata": {},
   "source": [
    "```sh\n",
    "pip install -e .\n",
    "```"
   ]
  },
  {
   "cell_type": "markdown",
   "metadata": {},
   "source": [
    "## How to use"
   ]
  },
  {
   "cell_type": "code",
   "execution_count": null,
   "metadata": {},
   "outputs": [],
   "source": [
    "from torch_moving_mnist.data import MovingMNIST\n",
    "from torch_moving_mnist.utils import show_images"
   ]
  },
  {
   "cell_type": "code",
   "execution_count": null,
   "metadata": {},
   "outputs": [],
   "source": [
    "affine_params = dict(\n",
    "    angle=(-20, 20), # rotation in degrees (min and max values)\n",
    "    translate=((-30, 30), (-30, 30)), # translation in pixels x and y\n",
    "    scale=(.8, 1.3), # scaling in percentage (1.0 = no scaling)\n",
    "    shear=(-20, 20), # deformation on the z-plane\n",
    ")"
   ]
  },
  {
   "cell_type": "markdown",
   "metadata": {},
   "source": [
    "Create a MovingMNIST dataset with `affine_params`, with 10 frames and may include up to 3 digitis. Image size is 64."
   ]
  },
  {
   "cell_type": "code",
   "execution_count": null,
   "metadata": {},
   "outputs": [],
   "source": [
    "from nbdev.showdoc import show_doc"
   ]
  },
  {
   "cell_type": "code",
   "execution_count": null,
   "metadata": {},
   "outputs": [
    {
     "data": {
      "text/markdown": [
       "---\n",
       "\n",
       "[source](https://github.com/tcapelle/torch_moving_mnist/blob/main/torch_moving_mnist/data.py#LNone){target=\"_blank\" style=\"float:right; font-size:smaller\"}\n",
       "\n",
       "### MovingMNIST\n",
       "\n",
       ">      MovingMNIST (path='.', affine_params:dict=namespace(angle=(-20, 20),\n",
       ">                   translate=((-30, 30), (-30, 30)), scale=(0.8, 1.3),\n",
       ">                   shear=(-20, 20)), num_digits:list[int]=[3],\n",
       ">                   num_frames:int=4, img_size=64, concat=True, normalize=True)\n",
       "\n",
       "Initialize self.  See help(type(self)) for accurate signature.\n",
       "\n",
       "|    | **Type** | **Default** | **Details** |\n",
       "| -- | -------- | ----------- | ----------- |\n",
       "| path | str | . | path to store the MNIST dataset |\n",
       "| affine_params | dict | namespace(angle=(-20, 20), translate=((-30, 30), (-30, 30)), scale=(0.8, 1.3), shear=(-20, 20)) | affine transform parameters, refer to torchvision.transforms.functional.affine |\n",
       "| num_digits | list | [3] | how many digits to move, random choice between the value provided |\n",
       "| num_frames | int | 4 | how many frames to create |\n",
       "| img_size | int | 64 | the canvas size, the actual digits are always 28x28 |\n",
       "| concat | bool | True | if we concat the final results (frames, 1, 28, 28) or a list of frames. |\n",
       "| normalize | bool | True | scale images in [0,1] and normalize them with MNIST stats. Applied at batch level. Have to take care of the canvas size that messes up the stats! |"
      ],
      "text/plain": [
       "---\n",
       "\n",
       "[source](https://github.com/tcapelle/torch_moving_mnist/blob/main/torch_moving_mnist/data.py#LNone){target=\"_blank\" style=\"float:right; font-size:smaller\"}\n",
       "\n",
       "### MovingMNIST\n",
       "\n",
       ">      MovingMNIST (path='.', affine_params:dict=namespace(angle=(-20, 20),\n",
       ">                   translate=((-30, 30), (-30, 30)), scale=(0.8, 1.3),\n",
       ">                   shear=(-20, 20)), num_digits:list[int]=[3],\n",
       ">                   num_frames:int=4, img_size=64, concat=True, normalize=True)\n",
       "\n",
       "Initialize self.  See help(type(self)) for accurate signature.\n",
       "\n",
       "|    | **Type** | **Default** | **Details** |\n",
       "| -- | -------- | ----------- | ----------- |\n",
       "| path | str | . | path to store the MNIST dataset |\n",
       "| affine_params | dict | namespace(angle=(-20, 20), translate=((-30, 30), (-30, 30)), scale=(0.8, 1.3), shear=(-20, 20)) | affine transform parameters, refer to torchvision.transforms.functional.affine |\n",
       "| num_digits | list | [3] | how many digits to move, random choice between the value provided |\n",
       "| num_frames | int | 4 | how many frames to create |\n",
       "| img_size | int | 64 | the canvas size, the actual digits are always 28x28 |\n",
       "| concat | bool | True | if we concat the final results (frames, 1, 28, 28) or a list of frames. |\n",
       "| normalize | bool | True | scale images in [0,1] and normalize them with MNIST stats. Applied at batch level. Have to take care of the canvas size that messes up the stats! |"
      ]
     },
     "execution_count": null,
     "metadata": {},
     "output_type": "execute_result"
    }
   ],
   "source": [
    "show_doc(MovingMNIST)"
   ]
  },
  {
   "cell_type": "code",
   "execution_count": null,
   "metadata": {},
   "outputs": [
    {
     "name": "stdout",
     "output_type": "stream",
     "text": [
      "New computed stats for MovingMNIST: ([0.07522265625], [0.17685937499999999])\n"
     ]
    }
   ],
   "source": [
    "ds = MovingMNIST(affine_params=affine_params, num_frames=10, num_digits=[1,2,3], img_size=64)"
   ]
  },
  {
   "cell_type": "markdown",
   "metadata": {},
   "source": [
    "when you index the dataset, it generates a random set of MNIST digits and trajectories. You could basically only call `ds[0]`"
   ]
  },
  {
   "cell_type": "code",
   "execution_count": null,
   "metadata": {},
   "outputs": [],
   "source": [
    "sequence = ds[0]"
   ]
  },
  {
   "cell_type": "code",
   "execution_count": null,
   "metadata": {},
   "outputs": [
    {
     "data": {
      "image/png": "[encoded data removed]",
      "text/plain": [
       "<Figure size 2000x1000 with 10 Axes>"
      ]
     },
     "metadata": {},
     "output_type": "display_data"
    }
   ],
   "source": [
    "show_images(sequence, figsize=(20,10))"
   ]
  },
  {
   "cell_type": "code",
   "execution_count": null,
   "metadata": {},
   "outputs": [
    {
     "data": {
      "text/plain": [
       "(torch.Tensor, torch.Size([10, 1, 64, 64]))"
      ]
     },
     "execution_count": null,
     "metadata": {},
     "output_type": "execute_result"
    }
   ],
   "source": [
    "t = sequence\n",
    "type(t), t.shape"
   ]
  },
  {
   "cell_type": "markdown",
   "metadata": {},
   "source": [
    "## Dataloader"
   ]
  },
  {
   "cell_type": "markdown",
   "metadata": {},
   "source": [
    "This dataset is randomly creating sequences on the fly, so the dataloader is just going to generate a batch..."
   ]
  },
  {
   "cell_type": "code",
   "execution_count": null,
   "metadata": {},
   "outputs": [],
   "source": [
    "batch = ds.get_batch(bs=128)"
   ]
  },
  {
   "cell_type": "code",
   "execution_count": null,
   "metadata": {},
   "outputs": [
    {
     "data": {
      "text/plain": [
       "torch.Size([128, 10, 1, 64, 64])"
      ]
     },
     "execution_count": null,
     "metadata": {},
     "output_type": "execute_result"
    }
   ],
   "source": [
    "batch.shape"
   ]
  },
  {
   "cell_type": "code",
   "execution_count": null,
   "metadata": {},
   "outputs": [
    {
     "data": {
      "image/png": "[encoded data removed]",
      "text/plain": [
       "<Figure size 640x480 with 10 Axes>"
      ]
     },
     "metadata": {},
     "output_type": "display_data"
    }
   ],
   "source": [
    "show_images(batch[0])"
   ]
  },
  {
   "cell_type": "markdown",
   "metadata": {},
   "source": [
    "the dataloader also is normalizing the inputs for you, after constructing the batch."
   ]
  },
  {
   "cell_type": "code",
   "execution_count": null,
   "metadata": {},
   "outputs": [
    {
     "data": {
      "text/plain": [
       "Compose(\n",
       "    ConvertImageDtype()\n",
       "    Normalize(mean=[0.07522265625], std=[0.17685937499999999])\n",
       ")"
      ]
     },
     "execution_count": null,
     "metadata": {},
     "output_type": "execute_result"
    }
   ],
   "source": [
    "ds.batch_tfms"
   ]
  }
 ],
 "metadata": {
  "kernelspec": {
   "display_name": "Python 3 (ipykernel)",
   "language": "python",
   "name": "python3"
  }
 },
 "nbformat": 4,
 "nbformat_minor": 4
}
