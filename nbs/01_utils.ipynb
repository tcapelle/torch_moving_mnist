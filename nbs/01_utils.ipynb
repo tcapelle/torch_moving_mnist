{
 "cells": [
  {
   "cell_type": "markdown",
   "id": "4926a340-c3bd-4037-ba29-e7425783d4bd",
   "metadata": {},
   "source": [
    "# Utils and Functions"
   ]
  },
  {
   "cell_type": "markdown",
   "id": "46d66386-ff1d-4a82-bf0a-468bcd565e17",
   "metadata": {},
   "source": [
    "A lot of these functions come from `fastai/fastai`"
   ]
  },
  {
   "cell_type": "code",
   "execution_count": null,
   "id": "18f50921-ff62-4e4c-a20d-e720a1687e8d",
   "metadata": {},
   "outputs": [],
   "source": [
    "#| default_exp utils"
   ]
  },
  {
   "cell_type": "code",
   "execution_count": null,
   "id": "58919a21-2fca-45c6-8d99-8315b3031c40",
   "metadata": {},
   "outputs": [],
   "source": [
    "#| export\n",
    "import math\n",
    "\n",
    "import matplotlib.pyplot as plt\n",
    "from PIL import Image\n",
    "\n",
    "import numpy as np\n",
    "\n",
    "import torch"
   ]
  },
  {
   "cell_type": "markdown",
   "id": "7f4e9a95-e95a-4cf1-865e-a46318c8d809",
   "metadata": {},
   "source": [
    "## Random stuff"
   ]
  },
  {
   "cell_type": "code",
   "execution_count": null,
   "id": "b9242ee3-0544-43d6-9757-4753499a8232",
   "metadata": {},
   "outputs": [],
   "source": [
    "#| export\n",
    "def ifnone(x, y):\n",
    "    if x is None:\n",
    "        return y\n",
    "    else:\n",
    "        return x"
   ]
  },
  {
   "cell_type": "markdown",
   "id": "759a1195-bf2e-48a0-a9d9-99b70e123564",
   "metadata": {},
   "source": [
    "very handy for default args on functions"
   ]
  },
  {
   "cell_type": "code",
   "execution_count": null,
   "id": "65ded17b-9f40-491a-b942-d87af634c927",
   "metadata": {},
   "outputs": [
    {
     "data": {
      "text/plain": [
       "1"
      ]
     },
     "execution_count": null,
     "metadata": {},
     "output_type": "execute_result"
    }
   ],
   "source": [
    "ifnone(None, 1)"
   ]
  },
  {
   "cell_type": "code",
   "execution_count": null,
   "id": "b2c510f5-e428-4e9c-8338-524be2bb62f7",
   "metadata": {},
   "outputs": [
    {
     "data": {
      "text/plain": [
       "1"
      ]
     },
     "execution_count": null,
     "metadata": {},
     "output_type": "execute_result"
    }
   ],
   "source": [
    "ifnone(1, 3)"
   ]
  },
  {
   "cell_type": "markdown",
   "id": "e644ec1c-ee44-4add-a39a-e1375e570aca",
   "metadata": {},
   "source": [
    "careful"
   ]
  },
  {
   "cell_type": "code",
   "execution_count": null,
   "id": "cf3e6f4d-63fa-4cec-a721-0bc31166bacb",
   "metadata": {},
   "outputs": [
    {
     "data": {
      "text/plain": [
       "[]"
      ]
     },
     "execution_count": null,
     "metadata": {},
     "output_type": "execute_result"
    }
   ],
   "source": [
    "ifnone([], 3)"
   ]
  },
  {
   "cell_type": "code",
   "execution_count": null,
   "id": "5684b19a-9bab-48da-91a1-66fba482534c",
   "metadata": {},
   "outputs": [],
   "source": [
    "#| export\n",
    "def not_none(o):\n",
    "    if isinstance(o, (list, tuple)):\n",
    "        return all(not_none(x) for x in o)\n",
    "    return o is not None"
   ]
  },
  {
   "cell_type": "code",
   "execution_count": null,
   "id": "66c2f93d-8925-4aaa-a202-ef1f2232ecd4",
   "metadata": {},
   "outputs": [
    {
     "data": {
      "text/plain": [
       "False"
      ]
     },
     "execution_count": null,
     "metadata": {},
     "output_type": "execute_result"
    }
   ],
   "source": [
    "not_none([1,2,None])"
   ]
  },
  {
   "cell_type": "code",
   "execution_count": null,
   "id": "d0747114-8848-4037-8576-5c4320478afd",
   "metadata": {},
   "outputs": [
    {
     "data": {
      "text/plain": [
       "True"
      ]
     },
     "execution_count": null,
     "metadata": {},
     "output_type": "execute_result"
    }
   ],
   "source": [
    "not_none(2)"
   ]
  },
  {
   "cell_type": "code",
   "execution_count": null,
   "id": "148bd36e-f43e-4a52-98dc-576ec48bc917",
   "metadata": {},
   "outputs": [],
   "source": [
    "#| export\n",
    "def set_seed(s, reproducible=False):\n",
    "    \"Set random seed for `random`, `torch`, and `numpy` (where available) - fastai\"\n",
    "    try: torch.manual_seed(s)\n",
    "    except NameError: pass\n",
    "    try: torch.cuda.manual_seed_all(s)\n",
    "    except NameError: pass\n",
    "    try: np.random.seed(s%(2**32-1))\n",
    "    except NameError: pass\n",
    "    random.seed(s)\n",
    "    if reproducible:\n",
    "        torch.backends.cudnn.deterministic = True\n",
    "        torch.backends.cudnn.benchmark = False"
   ]
  },
  {
   "cell_type": "code",
   "execution_count": null,
   "id": "fddc3f27-54d7-462a-b15a-0957a441a36a",
   "metadata": {},
   "outputs": [],
   "source": [
    "#| export\n",
    "def to_device(t, device):\n",
    "    if isinstance(t, (tuple, list)):\n",
    "        return [_t.to(device) for _t in t]\n",
    "    elif isinstance(t, torch.Tensor):\n",
    "        return t.to(device)\n",
    "    else:\n",
    "        raise(\"Not a Tensor or list of Tensors\")\n",
    "    return t     "
   ]
  },
  {
   "cell_type": "markdown",
   "id": "82bd1c58-3ff8-446e-876e-cecf20e5ddc6",
   "metadata": {},
   "source": [
    "## Image"
   ]
  },
  {
   "cell_type": "markdown",
   "id": "a216239c-5038-4f0e-b15b-4e2a6b8e7aae",
   "metadata": {},
   "source": [
    "The Image functions come from `fastai/fastai`"
   ]
  },
  {
   "cell_type": "code",
   "execution_count": null,
   "id": "25150453-dd83-4ada-a4e4-773563cc9464",
   "metadata": {},
   "outputs": [],
   "source": [
    "#| export\n",
    "def hasattrs(o,attrs):\n",
    "    \"Test whether `o` contains all `attrs`\"\n",
    "    return all(hasattr(o,attr) for attr in attrs)\n",
    "\n",
    "def _fig_bounds(x):\n",
    "    r = x//32\n",
    "    return min(5, max(1,r))\n",
    "\n",
    "def show_image(im, ax=None, figsize=None, title=None, **kwargs):\n",
    "    \"Show a PIL or PyTorch image on `ax`.\"\n",
    "    # Handle pytorch axis order\n",
    "    if hasattrs(im, ('data','cpu','permute')):\n",
    "        im = im.data.cpu()\n",
    "        if im.shape[0]<5: im=im.permute(1,2,0)\n",
    "    elif not isinstance(im, np.ndarray): \n",
    "        im=np.array(im)\n",
    "    # Handle 1-channel images\n",
    "    if im.shape[-1]==1: \n",
    "        im=im[...,0]\n",
    "\n",
    "    if figsize is None: \n",
    "        figsize = (_fig_bounds(im.shape[0]), _fig_bounds(im.shape[1]))\n",
    "    if ax is None: \n",
    "        _,ax = plt.subplots(figsize=figsize)\n",
    "    ax.imshow(im, **kwargs)\n",
    "    if title is not None: \n",
    "        ax.set_title(title)\n",
    "    ax.axis('off')\n",
    "    return ax"
   ]
  },
  {
   "cell_type": "code",
   "execution_count": null,
   "id": "57bd4694-7170-4054-a836-e5ffc1305071",
   "metadata": {},
   "outputs": [
    {
     "data": {
      "text/plain": [
       "<AxesSubplot: >"
      ]
     },
     "execution_count": null,
     "metadata": {},
     "output_type": "execute_result"
    },
    {
     "data": {
      "image/png": "[encoded data removed]",
      "text/plain": [
       "<Figure size 100x100 with 1 Axes>"
      ]
     },
     "metadata": {},
     "output_type": "display_data"
    }
   ],
   "source": [
    "show_image(torch.rand(3,32,32))"
   ]
  },
  {
   "cell_type": "code",
   "execution_count": null,
   "id": "f6524992-2764-482f-9b23-1a9468c0590f",
   "metadata": {},
   "outputs": [
    {
     "data": {
      "text/plain": [
       "<AxesSubplot: >"
      ]
     },
     "execution_count": null,
     "metadata": {},
     "output_type": "execute_result"
    },
    {
     "data": {
      "image/png": "[encoded data removed]",
      "text/plain": [
       "<Figure size 100x100 with 1 Axes>"
      ]
     },
     "metadata": {},
     "output_type": "display_data"
    }
   ],
   "source": [
    "show_image(np.random.random((32,32,3)))"
   ]
  },
  {
   "cell_type": "code",
   "execution_count": null,
   "id": "0e8ab84f-dabe-422b-9549-4b625950abf2",
   "metadata": {},
   "outputs": [],
   "source": [
    "#| export\n",
    "def show_images(ims, nrows=1, ncols=None, titles=None, **kwargs):\n",
    "    \"Show all images `ims` as subplots with `rows` using `titles`.\"\n",
    "    if ncols is None: \n",
    "        ncols = int(math.ceil(len(ims)/nrows))\n",
    "    if titles is None: \n",
    "        titles = [None]*len(ims)\n",
    "    axs = plt.subplots(nrows, ncols, **kwargs)[1].flat\n",
    "    for im,t,ax in zip(ims, titles, axs): \n",
    "        show_image(im, ax=ax, title=t)"
   ]
  },
  {
   "cell_type": "code",
   "execution_count": null,
   "id": "e632bd5e-79cf-42d2-be46-ceaf185d76e4",
   "metadata": {},
   "outputs": [
    {
     "data": {
      "text/plain": [
       "['a', 'b', 'c', 'd']"
      ]
     },
     "execution_count": null,
     "metadata": {},
     "output_type": "execute_result"
    }
   ],
   "source": [
    "list(\"abcd\")"
   ]
  },
  {
   "cell_type": "code",
   "execution_count": null,
   "id": "7c38085a-4e6e-4cff-b9f6-e3b3d1cb1034",
   "metadata": {},
   "outputs": [
    {
     "data": {
      "image/png": "[encoded data removed]",
      "text/plain": [
       "<Figure size 640x480 with 4 Axes>"
      ]
     },
     "metadata": {},
     "output_type": "display_data"
    }
   ],
   "source": [
    "show_images([torch.rand(3,32,32) for _ in range(4)], titles=list(\"abcd\"))"
   ]
  }
 ],
 "metadata": {
  "kernelspec": {
   "display_name": "Python 3 (ipykernel)",
   "language": "python",
   "name": "python3"
  }
 },
 "nbformat": 4,
 "nbformat_minor": 5
}
