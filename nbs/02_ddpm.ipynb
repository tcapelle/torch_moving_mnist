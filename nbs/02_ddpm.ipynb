{
 "cells": [
  {
   "cell_type": "markdown",
   "id": "1642a03b-b6d6-469c-a361-b20ad7e59921",
   "metadata": {},
   "source": [
    "# DDPM"
   ]
  },
  {
   "cell_type": "code",
   "execution_count": 2,
   "id": "4b74a08d-e48b-4f5b-a674-377cdc68694a",
   "metadata": {},
   "outputs": [],
   "source": [
    "import copy, os\n",
    "import logging\n",
    "from types import SimpleNamespace\n",
    "from contextlib import nullcontext\n",
    "from functools import partial\n",
    "\n",
    "\n",
    "import wandb\n",
    "\n",
    "import torch\n",
    "from torch.optim import Adam, AdamW\n",
    "from torch.optim.lr_scheduler import OneCycleLR, LinearLR\n",
    "import torch.nn as nn\n",
    "from types import SimpleNamespace\n",
    "from fastprogress import progress_bar, master_bar\n",
    "\n",
    "from unet import UNet, EMA\n",
    "\n",
    "logging.basicConfig(format=\"%(asctime)s - %(levelname)s: %(message)s\", level=logging.INFO, datefmt=\"%I:%M:%S\")\n"
   ]
  },
  {
   "cell_type": "code",
   "execution_count": 3,
   "id": "742f2b29-ab19-446f-8ee7-8c2c0374c944",
   "metadata": {},
   "outputs": [],
   "source": [
    "from diffusers import UNet2DModel"
   ]
  },
  {
   "cell_type": "code",
   "execution_count": 4,
   "id": "5a0b5688-4688-4280-a336-79ad60114bf2",
   "metadata": {},
   "outputs": [],
   "source": [
    "from torch_moving_mnist.utils import *\n",
    "from torch_moving_mnist.data import MovingMNIST"
   ]
  },
  {
   "cell_type": "code",
   "execution_count": 5,
   "id": "74e44e6b-2619-4c70-8079-4667a5878b69",
   "metadata": {},
   "outputs": [],
   "source": [
    "config = SimpleNamespace(    \n",
    "    epochs = 1,\n",
    "    model_name=\"ddpm_mmnist\",\n",
    "    noise_steps=1000,\n",
    "    seed = 42,\n",
    "    batch_size = 64,\n",
    "    img_size = 40,\n",
    "    num_frames = 3,\n",
    "    device = \"cuda\",\n",
    "    use_wandb = True,\n",
    "    do_validation = False,\n",
    "    fp16 = True,\n",
    "    num_workers=8,\n",
    "    train_steps=1000,\n",
    "    lr = 5e-4,\n",
    "    normalize=False,\n",
    ")"
   ]
  },
  {
   "cell_type": "code",
   "execution_count": 14,
   "id": "71bf9246-ee7b-4e0f-a2f8-21084bdbb832",
   "metadata": {},
   "outputs": [],
   "source": [
    "load_mmnist = False\n",
    "\n",
    "if not load_mmnist:\n",
    "    \n",
    "    mult = config.img_size // 28\n",
    "    \n",
    "    affine_params = dict(\n",
    "        angle=(-10, 10), # rotation in degrees (min and max values)\n",
    "        translate=((-mult*10, mult*10), (-mult*10, mult*10)), # translation in pixels x and y\n",
    "        scale=(.8, 1.3), # scaling in percentage (1.0 = no scaling)\n",
    "        # shear=(-10, 10), # deformation on the z-plane\n",
    "        shear=(0,0),\n",
    "    )\n",
    "\n",
    "    ds = MovingMNIST(affine_params=affine_params, num_digits=[1,2], \n",
    "                     img_size=config.img_size, num_frames=config.num_frames+1,\n",
    "                     normalize=config.normalize)\n",
    "    \n",
    "    def get_batch(bs=config.batch_size, frames=config.num_frames, dim=1, device=config.device):\n",
    "        b = ds.get_batch(bs).squeeze().to(device)\n",
    "        return b.split(frames, dim=dim)\n",
    "else:\n",
    "    ds = torch.load(\"mmnist.pt\")\n",
    "    \n",
    "    def get_batch(bs=config.batch_size, frames=config.num_frames, device=config.device):\n",
    "        ix = torch.randint(len(ds), (bs,))\n",
    "        b = ds[ix].squeeze().to(device)\n",
    "        return b[:,:frames], b[:,[frames]]"
   ]
  },
  {
   "cell_type": "code",
   "execution_count": 25,
   "id": "b22d84c7-828f-405e-8648-96eece5fd1bf",
   "metadata": {},
   "outputs": [
    {
     "data": {
      "text/html": [
       "\n",
       "<style>\n",
       "    /* Turns off some styling */\n",
       "    progress {\n",
       "        /* gets rid of default border in Firefox and Opera. */\n",
       "        border: none;\n",
       "        /* Needs to be in here for Safari polyfill so background images work as expected. */\n",
       "        background-size: auto;\n",
       "    }\n",
       "    progress:not([value]), progress:not([value])::-webkit-progress-bar {\n",
       "        background: repeating-linear-gradient(45deg, #7e7e7e, #7e7e7e 10px, #5c5c5c 10px, #5c5c5c 20px);\n",
       "    }\n",
       "    .progress-bar-interrupted, .progress-bar-interrupted::-webkit-progress-bar {\n",
       "        background: #F44336;\n",
       "    }\n",
       "</style>\n"
      ],
      "text/plain": [
       "<IPython.core.display.HTML object>"
      ]
     },
     "metadata": {},
     "output_type": "display_data"
    },
    {
     "data": {
      "text/html": [
       "\n",
       "    <div>\n",
       "      <progress value='1000' class='' max='1000' style='width:300px; height:20px; vertical-align: middle;'></progress>\n",
       "      100.00% [1000/1000 03:22&lt;00:00]\n",
       "    </div>\n",
       "    "
      ],
      "text/plain": [
       "<IPython.core.display.HTML object>"
      ]
     },
     "metadata": {},
     "output_type": "display_data"
    },
    {
     "name": "stdout",
     "output_type": "stream",
     "text": [
      "Saving dataset\n"
     ]
    }
   ],
   "source": [
    "ds.save(fname=\"mmnist_01_40x40.pt\", n_batches=1000, bs=128)"
   ]
  },
  {
   "cell_type": "code",
   "execution_count": 16,
   "id": "47878878-4014-476c-9a74-bad09aab755a",
   "metadata": {},
   "outputs": [
    {
     "data": {
      "text/plain": [
       "torch.Size([4, 1, 40, 40])"
      ]
     },
     "execution_count": 16,
     "metadata": {},
     "output_type": "execute_result"
    }
   ],
   "source": [
    "ds[0].shape"
   ]
  },
  {
   "cell_type": "code",
   "execution_count": 24,
   "id": "9fc7f9db-c02a-4c83-8ff6-244b9daa423d",
   "metadata": {},
   "outputs": [
    {
     "data": {
      "image/png": "[encoded data removed]",
      "text/plain": [
       "<Figure size 640x480 with 4 Axes>"
      ]
     },
     "metadata": {},
     "output_type": "display_data"
    },
    {
     "data": {
      "image/png": "[encoded data removed]",
      "text/plain": [
       "<Figure size 640x480 with 4 Axes>"
      ]
     },
     "metadata": {},
     "output_type": "display_data"
    },
    {
     "data": {
      "image/png": "[encoded data removed]",
      "text/plain": [
       "<Figure size 640x480 with 4 Axes>"
      ]
     },
     "metadata": {},
     "output_type": "display_data"
    },
    {
     "data": {
      "image/png": "[encoded data removed]",
      "text/plain": [
       "<Figure size 640x480 with 4 Axes>"
      ]
     },
     "metadata": {},
     "output_type": "display_data"
    }
   ],
   "source": [
    "for i in range(4):\n",
    "    imgs = ds[i]\n",
    "    show_images(imgs)"
   ]
  },
  {
   "cell_type": "code",
   "execution_count": 57,
   "id": "818a2e9f-cd40-4613-abf6-242a21872526",
   "metadata": {},
   "outputs": [],
   "source": [
    "x,y = get_batch()"
   ]
  },
  {
   "cell_type": "code",
   "execution_count": 58,
   "id": "87de0ff9-5177-4053-a300-f43b5ceeb33a",
   "metadata": {},
   "outputs": [
    {
     "data": {
      "text/plain": [
       "torch.Size([64, 3, 64, 64])"
      ]
     },
     "execution_count": 58,
     "metadata": {},
     "output_type": "execute_result"
    }
   ],
   "source": [
    "x.shape"
   ]
  },
  {
   "cell_type": "code",
   "execution_count": 59,
   "id": "dc5bb20e-b3a3-4d45-84e0-98da8db5f137",
   "metadata": {},
   "outputs": [
    {
     "data": {
      "text/plain": [
       "(torch.Size([64, 3, 64, 64]), torch.Size([64, 1, 64, 64]))"
      ]
     },
     "execution_count": 59,
     "metadata": {},
     "output_type": "execute_result"
    }
   ],
   "source": [
    "x.shape, y.shape"
   ]
  },
  {
   "cell_type": "code",
   "execution_count": 60,
   "id": "9a38c6f9-11ff-4529-9323-dae76d7afa3b",
   "metadata": {},
   "outputs": [],
   "source": [
    "# model = UNet2DModel(in_channels=1, out_channels=1, block_out_channels=(32, 64, 128, 128)).to(\"cuda\")\n",
    "\n",
    "# t = torch.randint(0, 1000, (24,), device=\"cuda\", dtype=torch.long)\n",
    "# out = model(torch.rand(24, 1, 32, 32, device=\"cuda\"), t).sample\n",
    "# loss = out.sum()\n",
    "\n",
    "# loss.backward()"
   ]
  },
  {
   "cell_type": "code",
   "execution_count": 61,
   "id": "84ea79df-d239-4e45-b0c1-c1ea0a385624",
   "metadata": {},
   "outputs": [],
   "source": [
    "# jeremy's trick for unet init\n",
    "from torch.nn import init\n",
    "\n",
    "from fastcore.foundation import L\n",
    "def init_ddpm(model):\n",
    "    for o in model.down_blocks:\n",
    "        for p in o.resnets:\n",
    "            p.conv2.weight.data.zero_()\n",
    "            for p in L(o.downsamplers): init.orthogonal_(p.conv.weight)\n",
    "\n",
    "    for o in model.up_blocks:\n",
    "        for p in o.resnets: p.conv2.weight.data.zero_()\n",
    "\n",
    "    model.conv_out.weight.data.zero_()"
   ]
  },
  {
   "cell_type": "code",
   "execution_count": 62,
   "id": "dc00da3c-1cb1-4502-a911-65959c8127f2",
   "metadata": {},
   "outputs": [],
   "source": [
    "class FrameDiffusion:\n",
    "    def __init__(self, noise_steps=1000, beta_start=1e-4, beta_end=0.02, img_size=256, c_in=8, c_out=4, use_wandb=False, device=\"cuda\"):\n",
    "\n",
    "        self.device = torch.device(device)\n",
    "        self.setup_noise_schedule(noise_steps, beta_start, beta_end)\n",
    "        self.img_size = img_size\n",
    "        self.model = UNet2DModel(in_channels=c_in, out_channels=c_out, block_out_channels=(32, 64, 128, 256), norm_num_groups=8).to(self.device)  \n",
    "        init_ddpm(self.model)\n",
    "        # self.model = UNet(c_in, c_out).to(device)\n",
    "        self.ema_model = copy.deepcopy(self.model).eval().requires_grad_(False)\n",
    "        self.c_in = c_in\n",
    "        self.use_wandb=use_wandb\n",
    "        self.fp16 = False\n",
    "    \n",
    "    def setup_noise_schedule(self, noise_steps, beta_start, beta_end):\n",
    "        \"DDPM scheduler\"\n",
    "        self.noise_steps = noise_steps\n",
    "        self.beta_start = beta_start\n",
    "        self.beta_end = beta_end\n",
    "\n",
    "        self.beta = torch.linspace(self.beta_start, self.beta_end, self.noise_steps).to(self.device)\n",
    "        self.alpha = 1. - self.beta\n",
    "        self.alpha_hat = torch.cumprod(self.alpha, dim=0)\n",
    "    \n",
    "    def sample_timesteps(self, n):\n",
    "        return torch.randint(low=1, high=self.noise_steps, size=(n,), device=self.device, dtype=torch.long)\n",
    "\n",
    "    def noise_images(self, x, t):\n",
    "        \"Add noise to images at instant t\"\n",
    "        alpha_hat = self.alpha_hat[t][:, None, None, None]\n",
    "        Ɛ = torch.randn_like(x)\n",
    "        return torch.sqrt(alpha_hat) * x + torch.sqrt(1-alpha_hat) * Ɛ, Ɛ\n",
    "    \n",
    "    \n",
    "    def noise_future(self, past_frames, future_frames, zero_past=False):\n",
    "        noise = torch.randn_like(future_frames)\n",
    "        if zero_past:\n",
    "            return torch.cat([torch.zeros_like(past_frames), noise], dim=1)\n",
    "        else:\n",
    "            return torch.cat([past_frames, noise], dim=1)\n",
    "    \n",
    "    @torch.inference_mode()\n",
    "    def sample(self, bs=10, use_ema=False):\n",
    "        logging.info(f\"Sampling new images....\")\n",
    "        past_frames, future_frames = get_batch(bs=bs, device=self.device)\n",
    "        model = self.ema_model if use_ema else self.model\n",
    "        return self._sample(model, past_frames, future_frames)\n",
    "    \n",
    "    @torch.inference_mode()\n",
    "    def _sample(self, model, past_frames, future_frames):\n",
    "        model.eval()\n",
    "        bs = len(past_frames)\n",
    "        x = torch.randn_like(future_frames)\n",
    "        for i in progress_bar(reversed(range(1, self.noise_steps)), total=self.noise_steps-1, leave=False):\n",
    "            t = (torch.ones(bs) * i).long().to(self.device)\n",
    "            all_frames = torch.cat([past_frames, x], dim=1)\n",
    "            predicted_noise = model(all_frames, t).sample\n",
    "            alpha = self.alpha[t][:, None, None, None]\n",
    "            alpha_hat = self.alpha_hat[t][:, None, None, None]\n",
    "            beta = self.beta[t][:, None, None, None]\n",
    "            if i > 1:\n",
    "                noise = torch.randn_like(x)\n",
    "            else:\n",
    "                noise = torch.zeros_like(x)\n",
    "            x = 1 / torch.sqrt(alpha) * (x - ((1 - alpha) / (torch.sqrt(1 - alpha_hat))) * predicted_noise) + torch.sqrt(beta) * noise\n",
    "\n",
    "        return torch.cat([past_frames, x], dim=1)\n",
    "    \n",
    "    def sample_more(self, model, past_frames, n=1):\n",
    "        \"Generate n extra frames one by one\"\n",
    "        bs, f, h, w = past_frames.shape\n",
    "        future_frames = []\n",
    "        for _ in progress_bar(range(n), leave=True):\n",
    "            one_frame = torch.empty(bs, 1, h, w, device=self.device)\n",
    "            prediction = self._sample(model, past_frames, one_frame)\n",
    "            past_frames = prediction[:, 1:, ...]\n",
    "            future_frames.append(prediction[:, -1:, ...]) # last frame\n",
    "        return torch.cat(future_frames, dim=1)\n",
    "    \n",
    "    def log_images(self):\n",
    "        \"Log images to wandb and save them to disk\"\n",
    "        def to_image(img):\n",
    "            return wandb.Image(torch.cat(img.split(1), dim=-1).cpu().numpy())\n",
    "        sampled_images = self.sample(use_ema=False)\n",
    "        wandb.log({\"sampled_images\":     [to_image(img) for img in sampled_images]})\n",
    "        ema_sampled_images = self.sample(use_ema=True)\n",
    "        wandb.log({\"ema_sampled_images\": [to_image(img) for img in ema_sampled_images]})\n",
    "\n",
    "    def train_step(self, loss):\n",
    "        self.optimizer.zero_grad()\n",
    "        self.scaler.scale(loss).backward()\n",
    "       \n",
    "        self.scheduler.step()\n",
    "        self.scaler.step(self.optimizer)\n",
    "        self.scaler.update()\n",
    "        \n",
    "        # update EMA model\n",
    "        self.ema.step_ema(self.ema_model, self.model)\n",
    "     \n",
    "        \n",
    "\n",
    "    def train(self, train_steps, use_wandb=False):\n",
    "        self.model.train()\n",
    "        pbar = progress_bar(range(train_steps))\n",
    "        for i in pbar:\n",
    "            past_frames, future_frames = get_batch()\n",
    "            t = self.sample_timesteps(past_frames.shape[0])  # batch size\n",
    "            x_t, noise = self.noise_images(future_frames, t)\n",
    "            \n",
    "            # stack past frames with future random placeholder\n",
    "            all_frames = torch.cat([past_frames, x_t], dim=1)\n",
    "            \n",
    "            # forward\n",
    "            with torch.autocast(\"cuda\", dtype=torch.float16) if self.fp16 else nullcontext():\n",
    "                predicted_noise = self.model(all_frames, t).sample\n",
    "                loss = self.mse(noise, predicted_noise)\n",
    "            \n",
    "            # step\n",
    "            self.train_step(loss)\n",
    "            if self.use_wandb:\n",
    "                wandb.log({\"train_mse\": loss.item(),\n",
    "                           \"learning_rate\": self.scheduler.get_last_lr()[0]})\n",
    "            pbar.comment = f\"MSE={loss.item():2.3f}\"\n",
    "            \n",
    "            if i % 1000 == 0:\n",
    "                self.log_images()\n",
    "\n",
    "    def load(self, model_cpkt_path, model_ckpt=\"ckpt.pt\", ema_model_ckpt=\"ema_ckpt.pt\"):\n",
    "        self.model.load_state_dict(torch.load(os.path.join(model_cpkt_path, model_ckpt)))\n",
    "        self.ema_model.load_state_dict(torch.load(os.path.join(model_cpkt_path, ema_model_ckpt)))\n",
    "\n",
    "    def save_model(self, model_name, use_wandb=False, epoch=-1):\n",
    "        \"Save model locally and on wandb\"\n",
    "        torch.save(self.model.state_dict(), os.path.join(\"models\", model_name, f\"ckpt.pt\"))\n",
    "        torch.save(self.ema_model.state_dict(), os.path.join(\"models\", model_name, f\"ema_ckpt.pt\"))\n",
    "        torch.save(self.optimizer.state_dict(), os.path.join(\"models\", model_name, f\"optim.pt\"))\n",
    "        if use_wandb:\n",
    "            at = wandb.Artifact(\"model\", type=\"model\", description=\"Model weights for DDPM conditional\", metadata={\"epoch\": epoch})\n",
    "            at.add_dir(os.path.join(\"models\", model_name))\n",
    "            wandb.log_artifact(at)\n",
    "\n",
    "    def prepare(self, optimizer, scheduler):\n",
    "        self.optimizer = optimizer(self.model.parameters())\n",
    "        self.scheduler = scheduler(self.optimizer)\n",
    "        self.scaler = torch.cuda.amp.GradScaler()\n",
    "        self.mse = nn.MSELoss(reduction=\"sum\")\n",
    "        self.ema = EMA(0.995)\n",
    "\n",
    "    def fit(self, args):\n",
    "        self.train(args.train_steps, use_wandb=args.use_wandb)"
   ]
  },
  {
   "cell_type": "code",
   "execution_count": 63,
   "id": "56a2ec13-951b-4ab8-997b-5210beba7815",
   "metadata": {},
   "outputs": [],
   "source": [
    "diffuser = FrameDiffusion(c_in=4, c_out=1, noise_steps=config.noise_steps, device=config.device, use_wandb=True)"
   ]
  },
  {
   "cell_type": "code",
   "execution_count": 64,
   "id": "afcdfe87-3a78-4981-b62f-a77cfc3cc5ec",
   "metadata": {},
   "outputs": [],
   "source": [
    "config.fp16 = True\n",
    "config.noise_steps = 1000\n",
    "config.train_steps = 10_000"
   ]
  },
  {
   "cell_type": "markdown",
   "id": "d2cb2716-66d7-4993-aa58-9be75dd6e2bf",
   "metadata": {
    "tags": []
   },
   "source": [
    "## Train"
   ]
  },
  {
   "cell_type": "code",
   "execution_count": 65,
   "id": "e95e776f-e701-4961-8497-294b2e069a68",
   "metadata": {},
   "outputs": [],
   "source": [
    "optimizer = partial(Adam, eps=1e-5)\n",
    "scheduler = partial(OneCycleLR, max_lr=config.lr, total_steps=config.train_steps)"
   ]
  },
  {
   "cell_type": "code",
   "execution_count": 66,
   "id": "43cc0f26-6afc-4852-b2d4-88fc9bb8ddc9",
   "metadata": {},
   "outputs": [],
   "source": [
    "diffuser.prepare(optimizer, scheduler)"
   ]
  },
  {
   "cell_type": "code",
   "execution_count": null,
   "id": "3972e8ce-4691-40fd-83db-7b1310e487cf",
   "metadata": {},
   "outputs": [
    {
     "data": {
      "text/html": [
       "Tracking run with wandb version 0.13.9"
      ],
      "text/plain": [
       "<IPython.core.display.HTML object>"
      ]
     },
     "metadata": {},
     "output_type": "display_data"
    },
    {
     "data": {
      "text/html": [
       "Run data is saved locally in <code>/home/tcapelle/wandb/torch_moving_mnist/nbs/wandb/run-20230117_033522-x24558hd</code>"
      ],
      "text/plain": [
       "<IPython.core.display.HTML object>"
      ]
     },
     "metadata": {},
     "output_type": "display_data"
    },
    {
     "data": {
      "text/html": [
       "Syncing run <strong><a href=\"https://wandb.ai/capecape/ddpm_mmnist/runs/x24558hd\" target=\"_blank\">decent-star-66</a></strong> to <a href=\"https://wandb.ai/capecape/ddpm_mmnist\" target=\"_blank\">Weights & Biases</a> (<a href=\"https://wandb.me/run\" target=\"_blank\">docs</a>)<br/>"
      ],
      "text/plain": [
       "<IPython.core.display.HTML object>"
      ]
     },
     "metadata": {},
     "output_type": "display_data"
    },
    {
     "data": {
      "text/html": [
       " View project at <a href=\"https://wandb.ai/capecape/ddpm_mmnist\" target=\"_blank\">https://wandb.ai/capecape/ddpm_mmnist</a>"
      ],
      "text/plain": [
       "<IPython.core.display.HTML object>"
      ]
     },
     "metadata": {},
     "output_type": "display_data"
    },
    {
     "data": {
      "text/html": [
       " View run at <a href=\"https://wandb.ai/capecape/ddpm_mmnist/runs/x24558hd\" target=\"_blank\">https://wandb.ai/capecape/ddpm_mmnist/runs/x24558hd</a>"
      ],
      "text/plain": [
       "<IPython.core.display.HTML object>"
      ]
     },
     "metadata": {},
     "output_type": "display_data"
    },
    {
     "data": {
      "text/html": [
       "\n",
       "<style>\n",
       "    /* Turns off some styling */\n",
       "    progress {\n",
       "        /* gets rid of default border in Firefox and Opera. */\n",
       "        border: none;\n",
       "        /* Needs to be in here for Safari polyfill so background images work as expected. */\n",
       "        background-size: auto;\n",
       "    }\n",
       "    progress:not([value]), progress:not([value])::-webkit-progress-bar {\n",
       "        background: repeating-linear-gradient(45deg, #7e7e7e, #7e7e7e 10px, #5c5c5c 10px, #5c5c5c 20px);\n",
       "    }\n",
       "    .progress-bar-interrupted, .progress-bar-interrupted::-webkit-progress-bar {\n",
       "        background: #F44336;\n",
       "    }\n",
       "</style>\n"
      ],
      "text/plain": [
       "<IPython.core.display.HTML object>"
      ]
     },
     "metadata": {},
     "output_type": "display_data"
    },
    {
     "data": {
      "text/html": [
       "\n",
       "    <div>\n",
       "      <progress value='9922' class='' max='10000' style='width:300px; height:20px; vertical-align: middle;'></progress>\n",
       "      99.22% [9922/10000 1:21:57&lt;00:38 MSE=4495.548]\n",
       "    </div>\n",
       "    "
      ],
      "text/plain": [
       "<IPython.core.display.HTML object>"
      ]
     },
     "metadata": {},
     "output_type": "display_data"
    },
    {
     "name": "stderr",
     "output_type": "stream",
     "text": [
      "03:35:26 - INFO: Sampling new images....\n"
     ]
    },
    {
     "data": {
      "text/html": [
       "\n",
       "<style>\n",
       "    /* Turns off some styling */\n",
       "    progress {\n",
       "        /* gets rid of default border in Firefox and Opera. */\n",
       "        border: none;\n",
       "        /* Needs to be in here for Safari polyfill so background images work as expected. */\n",
       "        background-size: auto;\n",
       "    }\n",
       "    progress:not([value]), progress:not([value])::-webkit-progress-bar {\n",
       "        background: repeating-linear-gradient(45deg, #7e7e7e, #7e7e7e 10px, #5c5c5c 10px, #5c5c5c 20px);\n",
       "    }\n",
       "    .progress-bar-interrupted, .progress-bar-interrupted::-webkit-progress-bar {\n",
       "        background: #F44336;\n",
       "    }\n",
       "</style>\n"
      ],
      "text/plain": [
       "<IPython.core.display.HTML object>"
      ]
     },
     "metadata": {},
     "output_type": "display_data"
    },
    {
     "data": {
      "text/html": [],
      "text/plain": [
       "<IPython.core.display.HTML object>"
      ]
     },
     "metadata": {},
     "output_type": "display_data"
    },
    {
     "name": "stderr",
     "output_type": "stream",
     "text": [
      "03:35:57 - INFO: Sampling new images....\n"
     ]
    },
    {
     "data": {
      "text/html": [
       "\n",
       "<style>\n",
       "    /* Turns off some styling */\n",
       "    progress {\n",
       "        /* gets rid of default border in Firefox and Opera. */\n",
       "        border: none;\n",
       "        /* Needs to be in here for Safari polyfill so background images work as expected. */\n",
       "        background-size: auto;\n",
       "    }\n",
       "    progress:not([value]), progress:not([value])::-webkit-progress-bar {\n",
       "        background: repeating-linear-gradient(45deg, #7e7e7e, #7e7e7e 10px, #5c5c5c 10px, #5c5c5c 20px);\n",
       "    }\n",
       "    .progress-bar-interrupted, .progress-bar-interrupted::-webkit-progress-bar {\n",
       "        background: #F44336;\n",
       "    }\n",
       "</style>\n"
      ],
      "text/plain": [
       "<IPython.core.display.HTML object>"
      ]
     },
     "metadata": {},
     "output_type": "display_data"
    },
    {
     "data": {
      "text/html": [],
      "text/plain": [
       "<IPython.core.display.HTML object>"
      ]
     },
     "metadata": {},
     "output_type": "display_data"
    },
    {
     "name": "stderr",
     "output_type": "stream",
     "text": [
      "03:43:38 - INFO: Sampling new images....\n"
     ]
    },
    {
     "data": {
      "text/html": [
       "\n",
       "<style>\n",
       "    /* Turns off some styling */\n",
       "    progress {\n",
       "        /* gets rid of default border in Firefox and Opera. */\n",
       "        border: none;\n",
       "        /* Needs to be in here for Safari polyfill so background images work as expected. */\n",
       "        background-size: auto;\n",
       "    }\n",
       "    progress:not([value]), progress:not([value])::-webkit-progress-bar {\n",
       "        background: repeating-linear-gradient(45deg, #7e7e7e, #7e7e7e 10px, #5c5c5c 10px, #5c5c5c 20px);\n",
       "    }\n",
       "    .progress-bar-interrupted, .progress-bar-interrupted::-webkit-progress-bar {\n",
       "        background: #F44336;\n",
       "    }\n",
       "</style>\n"
      ],
      "text/plain": [
       "<IPython.core.display.HTML object>"
      ]
     },
     "metadata": {},
     "output_type": "display_data"
    },
    {
     "data": {
      "text/html": [],
      "text/plain": [
       "<IPython.core.display.HTML object>"
      ]
     },
     "metadata": {},
     "output_type": "display_data"
    },
    {
     "name": "stderr",
     "output_type": "stream",
     "text": [
      "03:44:09 - INFO: Sampling new images....\n"
     ]
    },
    {
     "data": {
      "text/html": [
       "\n",
       "<style>\n",
       "    /* Turns off some styling */\n",
       "    progress {\n",
       "        /* gets rid of default border in Firefox and Opera. */\n",
       "        border: none;\n",
       "        /* Needs to be in here for Safari polyfill so background images work as expected. */\n",
       "        background-size: auto;\n",
       "    }\n",
       "    progress:not([value]), progress:not([value])::-webkit-progress-bar {\n",
       "        background: repeating-linear-gradient(45deg, #7e7e7e, #7e7e7e 10px, #5c5c5c 10px, #5c5c5c 20px);\n",
       "    }\n",
       "    .progress-bar-interrupted, .progress-bar-interrupted::-webkit-progress-bar {\n",
       "        background: #F44336;\n",
       "    }\n",
       "</style>\n"
      ],
      "text/plain": [
       "<IPython.core.display.HTML object>"
      ]
     },
     "metadata": {},
     "output_type": "display_data"
    },
    {
     "data": {
      "text/html": [],
      "text/plain": [
       "<IPython.core.display.HTML object>"
      ]
     },
     "metadata": {},
     "output_type": "display_data"
    },
    {
     "name": "stderr",
     "output_type": "stream",
     "text": [
      "03:51:51 - INFO: Sampling new images....\n"
     ]
    },
    {
     "data": {
      "text/html": [
       "\n",
       "<style>\n",
       "    /* Turns off some styling */\n",
       "    progress {\n",
       "        /* gets rid of default border in Firefox and Opera. */\n",
       "        border: none;\n",
       "        /* Needs to be in here for Safari polyfill so background images work as expected. */\n",
       "        background-size: auto;\n",
       "    }\n",
       "    progress:not([value]), progress:not([value])::-webkit-progress-bar {\n",
       "        background: repeating-linear-gradient(45deg, #7e7e7e, #7e7e7e 10px, #5c5c5c 10px, #5c5c5c 20px);\n",
       "    }\n",
       "    .progress-bar-interrupted, .progress-bar-interrupted::-webkit-progress-bar {\n",
       "        background: #F44336;\n",
       "    }\n",
       "</style>\n"
      ],
      "text/plain": [
       "<IPython.core.display.HTML object>"
      ]
     },
     "metadata": {},
     "output_type": "display_data"
    },
    {
     "data": {
      "text/html": [],
      "text/plain": [
       "<IPython.core.display.HTML object>"
      ]
     },
     "metadata": {},
     "output_type": "display_data"
    },
    {
     "name": "stderr",
     "output_type": "stream",
     "text": [
      "03:52:21 - INFO: Sampling new images....\n"
     ]
    },
    {
     "data": {
      "text/html": [
       "\n",
       "<style>\n",
       "    /* Turns off some styling */\n",
       "    progress {\n",
       "        /* gets rid of default border in Firefox and Opera. */\n",
       "        border: none;\n",
       "        /* Needs to be in here for Safari polyfill so background images work as expected. */\n",
       "        background-size: auto;\n",
       "    }\n",
       "    progress:not([value]), progress:not([value])::-webkit-progress-bar {\n",
       "        background: repeating-linear-gradient(45deg, #7e7e7e, #7e7e7e 10px, #5c5c5c 10px, #5c5c5c 20px);\n",
       "    }\n",
       "    .progress-bar-interrupted, .progress-bar-interrupted::-webkit-progress-bar {\n",
       "        background: #F44336;\n",
       "    }\n",
       "</style>\n"
      ],
      "text/plain": [
       "<IPython.core.display.HTML object>"
      ]
     },
     "metadata": {},
     "output_type": "display_data"
    },
    {
     "data": {
      "text/html": [],
      "text/plain": [
       "<IPython.core.display.HTML object>"
      ]
     },
     "metadata": {},
     "output_type": "display_data"
    },
    {
     "name": "stderr",
     "output_type": "stream",
     "text": [
      "04:00:06 - INFO: Sampling new images....\n"
     ]
    },
    {
     "data": {
      "text/html": [
       "\n",
       "<style>\n",
       "    /* Turns off some styling */\n",
       "    progress {\n",
       "        /* gets rid of default border in Firefox and Opera. */\n",
       "        border: none;\n",
       "        /* Needs to be in here for Safari polyfill so background images work as expected. */\n",
       "        background-size: auto;\n",
       "    }\n",
       "    progress:not([value]), progress:not([value])::-webkit-progress-bar {\n",
       "        background: repeating-linear-gradient(45deg, #7e7e7e, #7e7e7e 10px, #5c5c5c 10px, #5c5c5c 20px);\n",
       "    }\n",
       "    .progress-bar-interrupted, .progress-bar-interrupted::-webkit-progress-bar {\n",
       "        background: #F44336;\n",
       "    }\n",
       "</style>\n"
      ],
      "text/plain": [
       "<IPython.core.display.HTML object>"
      ]
     },
     "metadata": {},
     "output_type": "display_data"
    },
    {
     "data": {
      "text/html": [],
      "text/plain": [
       "<IPython.core.display.HTML object>"
      ]
     },
     "metadata": {},
     "output_type": "display_data"
    },
    {
     "name": "stderr",
     "output_type": "stream",
     "text": [
      "04:00:37 - INFO: Sampling new images....\n"
     ]
    },
    {
     "data": {
      "text/html": [
       "\n",
       "<style>\n",
       "    /* Turns off some styling */\n",
       "    progress {\n",
       "        /* gets rid of default border in Firefox and Opera. */\n",
       "        border: none;\n",
       "        /* Needs to be in here for Safari polyfill so background images work as expected. */\n",
       "        background-size: auto;\n",
       "    }\n",
       "    progress:not([value]), progress:not([value])::-webkit-progress-bar {\n",
       "        background: repeating-linear-gradient(45deg, #7e7e7e, #7e7e7e 10px, #5c5c5c 10px, #5c5c5c 20px);\n",
       "    }\n",
       "    .progress-bar-interrupted, .progress-bar-interrupted::-webkit-progress-bar {\n",
       "        background: #F44336;\n",
       "    }\n",
       "</style>\n"
      ],
      "text/plain": [
       "<IPython.core.display.HTML object>"
      ]
     },
     "metadata": {},
     "output_type": "display_data"
    },
    {
     "data": {
      "text/html": [],
      "text/plain": [
       "<IPython.core.display.HTML object>"
      ]
     },
     "metadata": {},
     "output_type": "display_data"
    },
    {
     "name": "stderr",
     "output_type": "stream",
     "text": [
      "04:08:22 - INFO: Sampling new images....\n"
     ]
    },
    {
     "data": {
      "text/html": [
       "\n",
       "<style>\n",
       "    /* Turns off some styling */\n",
       "    progress {\n",
       "        /* gets rid of default border in Firefox and Opera. */\n",
       "        border: none;\n",
       "        /* Needs to be in here for Safari polyfill so background images work as expected. */\n",
       "        background-size: auto;\n",
       "    }\n",
       "    progress:not([value]), progress:not([value])::-webkit-progress-bar {\n",
       "        background: repeating-linear-gradient(45deg, #7e7e7e, #7e7e7e 10px, #5c5c5c 10px, #5c5c5c 20px);\n",
       "    }\n",
       "    .progress-bar-interrupted, .progress-bar-interrupted::-webkit-progress-bar {\n",
       "        background: #F44336;\n",
       "    }\n",
       "</style>\n"
      ],
      "text/plain": [
       "<IPython.core.display.HTML object>"
      ]
     },
     "metadata": {},
     "output_type": "display_data"
    },
    {
     "data": {
      "text/html": [],
      "text/plain": [
       "<IPython.core.display.HTML object>"
      ]
     },
     "metadata": {},
     "output_type": "display_data"
    },
    {
     "name": "stderr",
     "output_type": "stream",
     "text": [
      "04:08:53 - INFO: Sampling new images....\n"
     ]
    },
    {
     "data": {
      "text/html": [
       "\n",
       "<style>\n",
       "    /* Turns off some styling */\n",
       "    progress {\n",
       "        /* gets rid of default border in Firefox and Opera. */\n",
       "        border: none;\n",
       "        /* Needs to be in here for Safari polyfill so background images work as expected. */\n",
       "        background-size: auto;\n",
       "    }\n",
       "    progress:not([value]), progress:not([value])::-webkit-progress-bar {\n",
       "        background: repeating-linear-gradient(45deg, #7e7e7e, #7e7e7e 10px, #5c5c5c 10px, #5c5c5c 20px);\n",
       "    }\n",
       "    .progress-bar-interrupted, .progress-bar-interrupted::-webkit-progress-bar {\n",
       "        background: #F44336;\n",
       "    }\n",
       "</style>\n"
      ],
      "text/plain": [
       "<IPython.core.display.HTML object>"
      ]
     },
     "metadata": {},
     "output_type": "display_data"
    },
    {
     "data": {
      "text/html": [],
      "text/plain": [
       "<IPython.core.display.HTML object>"
      ]
     },
     "metadata": {},
     "output_type": "display_data"
    },
    {
     "name": "stderr",
     "output_type": "stream",
     "text": [
      "04:16:38 - INFO: Sampling new images....\n"
     ]
    },
    {
     "data": {
      "text/html": [
       "\n",
       "<style>\n",
       "    /* Turns off some styling */\n",
       "    progress {\n",
       "        /* gets rid of default border in Firefox and Opera. */\n",
       "        border: none;\n",
       "        /* Needs to be in here for Safari polyfill so background images work as expected. */\n",
       "        background-size: auto;\n",
       "    }\n",
       "    progress:not([value]), progress:not([value])::-webkit-progress-bar {\n",
       "        background: repeating-linear-gradient(45deg, #7e7e7e, #7e7e7e 10px, #5c5c5c 10px, #5c5c5c 20px);\n",
       "    }\n",
       "    .progress-bar-interrupted, .progress-bar-interrupted::-webkit-progress-bar {\n",
       "        background: #F44336;\n",
       "    }\n",
       "</style>\n"
      ],
      "text/plain": [
       "<IPython.core.display.HTML object>"
      ]
     },
     "metadata": {},
     "output_type": "display_data"
    },
    {
     "data": {
      "text/html": [],
      "text/plain": [
       "<IPython.core.display.HTML object>"
      ]
     },
     "metadata": {},
     "output_type": "display_data"
    },
    {
     "name": "stderr",
     "output_type": "stream",
     "text": [
      "04:17:09 - INFO: Sampling new images....\n"
     ]
    },
    {
     "data": {
      "text/html": [
       "\n",
       "<style>\n",
       "    /* Turns off some styling */\n",
       "    progress {\n",
       "        /* gets rid of default border in Firefox and Opera. */\n",
       "        border: none;\n",
       "        /* Needs to be in here for Safari polyfill so background images work as expected. */\n",
       "        background-size: auto;\n",
       "    }\n",
       "    progress:not([value]), progress:not([value])::-webkit-progress-bar {\n",
       "        background: repeating-linear-gradient(45deg, #7e7e7e, #7e7e7e 10px, #5c5c5c 10px, #5c5c5c 20px);\n",
       "    }\n",
       "    .progress-bar-interrupted, .progress-bar-interrupted::-webkit-progress-bar {\n",
       "        background: #F44336;\n",
       "    }\n",
       "</style>\n"
      ],
      "text/plain": [
       "<IPython.core.display.HTML object>"
      ]
     },
     "metadata": {},
     "output_type": "display_data"
    },
    {
     "data": {
      "text/html": [],
      "text/plain": [
       "<IPython.core.display.HTML object>"
      ]
     },
     "metadata": {},
     "output_type": "display_data"
    },
    {
     "name": "stderr",
     "output_type": "stream",
     "text": [
      "04:24:54 - INFO: Sampling new images....\n"
     ]
    },
    {
     "data": {
      "text/html": [
       "\n",
       "<style>\n",
       "    /* Turns off some styling */\n",
       "    progress {\n",
       "        /* gets rid of default border in Firefox and Opera. */\n",
       "        border: none;\n",
       "        /* Needs to be in here for Safari polyfill so background images work as expected. */\n",
       "        background-size: auto;\n",
       "    }\n",
       "    progress:not([value]), progress:not([value])::-webkit-progress-bar {\n",
       "        background: repeating-linear-gradient(45deg, #7e7e7e, #7e7e7e 10px, #5c5c5c 10px, #5c5c5c 20px);\n",
       "    }\n",
       "    .progress-bar-interrupted, .progress-bar-interrupted::-webkit-progress-bar {\n",
       "        background: #F44336;\n",
       "    }\n",
       "</style>\n"
      ],
      "text/plain": [
       "<IPython.core.display.HTML object>"
      ]
     },
     "metadata": {},
     "output_type": "display_data"
    },
    {
     "data": {
      "text/html": [],
      "text/plain": [
       "<IPython.core.display.HTML object>"
      ]
     },
     "metadata": {},
     "output_type": "display_data"
    },
    {
     "name": "stderr",
     "output_type": "stream",
     "text": [
      "04:25:25 - INFO: Sampling new images....\n"
     ]
    },
    {
     "data": {
      "text/html": [
       "\n",
       "<style>\n",
       "    /* Turns off some styling */\n",
       "    progress {\n",
       "        /* gets rid of default border in Firefox and Opera. */\n",
       "        border: none;\n",
       "        /* Needs to be in here for Safari polyfill so background images work as expected. */\n",
       "        background-size: auto;\n",
       "    }\n",
       "    progress:not([value]), progress:not([value])::-webkit-progress-bar {\n",
       "        background: repeating-linear-gradient(45deg, #7e7e7e, #7e7e7e 10px, #5c5c5c 10px, #5c5c5c 20px);\n",
       "    }\n",
       "    .progress-bar-interrupted, .progress-bar-interrupted::-webkit-progress-bar {\n",
       "        background: #F44336;\n",
       "    }\n",
       "</style>\n"
      ],
      "text/plain": [
       "<IPython.core.display.HTML object>"
      ]
     },
     "metadata": {},
     "output_type": "display_data"
    },
    {
     "data": {
      "text/html": [],
      "text/plain": [
       "<IPython.core.display.HTML object>"
      ]
     },
     "metadata": {},
     "output_type": "display_data"
    },
    {
     "name": "stderr",
     "output_type": "stream",
     "text": [
      "04:33:10 - INFO: Sampling new images....\n"
     ]
    },
    {
     "data": {
      "text/html": [
       "\n",
       "<style>\n",
       "    /* Turns off some styling */\n",
       "    progress {\n",
       "        /* gets rid of default border in Firefox and Opera. */\n",
       "        border: none;\n",
       "        /* Needs to be in here for Safari polyfill so background images work as expected. */\n",
       "        background-size: auto;\n",
       "    }\n",
       "    progress:not([value]), progress:not([value])::-webkit-progress-bar {\n",
       "        background: repeating-linear-gradient(45deg, #7e7e7e, #7e7e7e 10px, #5c5c5c 10px, #5c5c5c 20px);\n",
       "    }\n",
       "    .progress-bar-interrupted, .progress-bar-interrupted::-webkit-progress-bar {\n",
       "        background: #F44336;\n",
       "    }\n",
       "</style>\n"
      ],
      "text/plain": [
       "<IPython.core.display.HTML object>"
      ]
     },
     "metadata": {},
     "output_type": "display_data"
    },
    {
     "data": {
      "text/html": [],
      "text/plain": [
       "<IPython.core.display.HTML object>"
      ]
     },
     "metadata": {},
     "output_type": "display_data"
    },
    {
     "name": "stderr",
     "output_type": "stream",
     "text": [
      "04:33:41 - INFO: Sampling new images....\n"
     ]
    },
    {
     "data": {
      "text/html": [
       "\n",
       "<style>\n",
       "    /* Turns off some styling */\n",
       "    progress {\n",
       "        /* gets rid of default border in Firefox and Opera. */\n",
       "        border: none;\n",
       "        /* Needs to be in here for Safari polyfill so background images work as expected. */\n",
       "        background-size: auto;\n",
       "    }\n",
       "    progress:not([value]), progress:not([value])::-webkit-progress-bar {\n",
       "        background: repeating-linear-gradient(45deg, #7e7e7e, #7e7e7e 10px, #5c5c5c 10px, #5c5c5c 20px);\n",
       "    }\n",
       "    .progress-bar-interrupted, .progress-bar-interrupted::-webkit-progress-bar {\n",
       "        background: #F44336;\n",
       "    }\n",
       "</style>\n"
      ],
      "text/plain": [
       "<IPython.core.display.HTML object>"
      ]
     },
     "metadata": {},
     "output_type": "display_data"
    },
    {
     "data": {
      "text/html": [],
      "text/plain": [
       "<IPython.core.display.HTML object>"
      ]
     },
     "metadata": {},
     "output_type": "display_data"
    },
    {
     "name": "stderr",
     "output_type": "stream",
     "text": [
      "04:41:26 - INFO: Sampling new images....\n"
     ]
    },
    {
     "data": {
      "text/html": [
       "\n",
       "<style>\n",
       "    /* Turns off some styling */\n",
       "    progress {\n",
       "        /* gets rid of default border in Firefox and Opera. */\n",
       "        border: none;\n",
       "        /* Needs to be in here for Safari polyfill so background images work as expected. */\n",
       "        background-size: auto;\n",
       "    }\n",
       "    progress:not([value]), progress:not([value])::-webkit-progress-bar {\n",
       "        background: repeating-linear-gradient(45deg, #7e7e7e, #7e7e7e 10px, #5c5c5c 10px, #5c5c5c 20px);\n",
       "    }\n",
       "    .progress-bar-interrupted, .progress-bar-interrupted::-webkit-progress-bar {\n",
       "        background: #F44336;\n",
       "    }\n",
       "</style>\n"
      ],
      "text/plain": [
       "<IPython.core.display.HTML object>"
      ]
     },
     "metadata": {},
     "output_type": "display_data"
    },
    {
     "data": {
      "text/html": [],
      "text/plain": [
       "<IPython.core.display.HTML object>"
      ]
     },
     "metadata": {},
     "output_type": "display_data"
    },
    {
     "name": "stderr",
     "output_type": "stream",
     "text": [
      "04:41:57 - INFO: Sampling new images....\n"
     ]
    },
    {
     "data": {
      "text/html": [
       "\n",
       "<style>\n",
       "    /* Turns off some styling */\n",
       "    progress {\n",
       "        /* gets rid of default border in Firefox and Opera. */\n",
       "        border: none;\n",
       "        /* Needs to be in here for Safari polyfill so background images work as expected. */\n",
       "        background-size: auto;\n",
       "    }\n",
       "    progress:not([value]), progress:not([value])::-webkit-progress-bar {\n",
       "        background: repeating-linear-gradient(45deg, #7e7e7e, #7e7e7e 10px, #5c5c5c 10px, #5c5c5c 20px);\n",
       "    }\n",
       "    .progress-bar-interrupted, .progress-bar-interrupted::-webkit-progress-bar {\n",
       "        background: #F44336;\n",
       "    }\n",
       "</style>\n"
      ],
      "text/plain": [
       "<IPython.core.display.HTML object>"
      ]
     },
     "metadata": {},
     "output_type": "display_data"
    },
    {
     "data": {
      "text/html": [],
      "text/plain": [
       "<IPython.core.display.HTML object>"
      ]
     },
     "metadata": {},
     "output_type": "display_data"
    },
    {
     "name": "stderr",
     "output_type": "stream",
     "text": [
      "04:49:42 - INFO: Sampling new images....\n"
     ]
    },
    {
     "data": {
      "text/html": [
       "\n",
       "<style>\n",
       "    /* Turns off some styling */\n",
       "    progress {\n",
       "        /* gets rid of default border in Firefox and Opera. */\n",
       "        border: none;\n",
       "        /* Needs to be in here for Safari polyfill so background images work as expected. */\n",
       "        background-size: auto;\n",
       "    }\n",
       "    progress:not([value]), progress:not([value])::-webkit-progress-bar {\n",
       "        background: repeating-linear-gradient(45deg, #7e7e7e, #7e7e7e 10px, #5c5c5c 10px, #5c5c5c 20px);\n",
       "    }\n",
       "    .progress-bar-interrupted, .progress-bar-interrupted::-webkit-progress-bar {\n",
       "        background: #F44336;\n",
       "    }\n",
       "</style>\n"
      ],
      "text/plain": [
       "<IPython.core.display.HTML object>"
      ]
     },
     "metadata": {},
     "output_type": "display_data"
    },
    {
     "data": {
      "text/html": [],
      "text/plain": [
       "<IPython.core.display.HTML object>"
      ]
     },
     "metadata": {},
     "output_type": "display_data"
    },
    {
     "name": "stderr",
     "output_type": "stream",
     "text": [
      "04:50:12 - INFO: Sampling new images....\n"
     ]
    },
    {
     "data": {
      "text/html": [
       "\n",
       "<style>\n",
       "    /* Turns off some styling */\n",
       "    progress {\n",
       "        /* gets rid of default border in Firefox and Opera. */\n",
       "        border: none;\n",
       "        /* Needs to be in here for Safari polyfill so background images work as expected. */\n",
       "        background-size: auto;\n",
       "    }\n",
       "    progress:not([value]), progress:not([value])::-webkit-progress-bar {\n",
       "        background: repeating-linear-gradient(45deg, #7e7e7e, #7e7e7e 10px, #5c5c5c 10px, #5c5c5c 20px);\n",
       "    }\n",
       "    .progress-bar-interrupted, .progress-bar-interrupted::-webkit-progress-bar {\n",
       "        background: #F44336;\n",
       "    }\n",
       "</style>\n"
      ],
      "text/plain": [
       "<IPython.core.display.HTML object>"
      ]
     },
     "metadata": {},
     "output_type": "display_data"
    },
    {
     "data": {
      "text/html": [],
      "text/plain": [
       "<IPython.core.display.HTML object>"
      ]
     },
     "metadata": {},
     "output_type": "display_data"
    }
   ],
   "source": [
    "with wandb.init(project=\"ddpm_mmnist\", group=\"train\", tags=[\"fp16\", \"big\"], config=config) if config.use_wandb else nullcontext():\n",
    "    diffuser.fit(config)"
   ]
  },
  {
   "cell_type": "code",
   "execution_count": null,
   "id": "915c74d8-cc65-4de8-9e49-3b04d2a2519c",
   "metadata": {},
   "outputs": [],
   "source": [
    "diffuser.save_model(\"ddpm_big\")"
   ]
  },
  {
   "cell_type": "code",
   "execution_count": null,
   "id": "8cb022ab-ca5e-4b33-8298-330b20f02c44",
   "metadata": {},
   "outputs": [],
   "source": [
    "!sudo poweroff"
   ]
  },
  {
   "cell_type": "markdown",
   "id": "240c3ebc-a2fd-439a-a776-3339660914d4",
   "metadata": {},
   "source": [
    "## Sample"
   ]
  },
  {
   "cell_type": "markdown",
   "id": "2e5acf92-d05b-490b-88d8-4835e08147f8",
   "metadata": {},
   "source": [
    "load a model"
   ]
  },
  {
   "cell_type": "code",
   "execution_count": 23,
   "id": "2b0d1ac4-0747-4fd7-a968-9f4f9fbdf54b",
   "metadata": {},
   "outputs": [],
   "source": [
    "import numpy as np"
   ]
  },
  {
   "cell_type": "code",
   "execution_count": 24,
   "id": "75c92d51-0ca4-43db-8477-2cb195bad3ed",
   "metadata": {},
   "outputs": [],
   "source": [
    "# diffuser.load(\"models/ddpm_simple\")"
   ]
  },
  {
   "cell_type": "code",
   "execution_count": 25,
   "id": "6de76fa5-fb57-40c5-a461-fdb52a7591c7",
   "metadata": {},
   "outputs": [
    {
     "name": "stderr",
     "output_type": "stream",
     "text": [
      "10:01:48 - INFO: Sampling new images....\n"
     ]
    },
    {
     "data": {
      "text/html": [
       "\n",
       "<style>\n",
       "    /* Turns off some styling */\n",
       "    progress {\n",
       "        /* gets rid of default border in Firefox and Opera. */\n",
       "        border: none;\n",
       "        /* Needs to be in here for Safari polyfill so background images work as expected. */\n",
       "        background-size: auto;\n",
       "    }\n",
       "    progress:not([value]), progress:not([value])::-webkit-progress-bar {\n",
       "        background: repeating-linear-gradient(45deg, #7e7e7e, #7e7e7e 10px, #5c5c5c 10px, #5c5c5c 20px);\n",
       "    }\n",
       "    .progress-bar-interrupted, .progress-bar-interrupted::-webkit-progress-bar {\n",
       "        background: #F44336;\n",
       "    }\n",
       "</style>\n"
      ],
      "text/plain": [
       "<IPython.core.display.HTML object>"
      ]
     },
     "metadata": {},
     "output_type": "display_data"
    },
    {
     "data": {
      "text/html": [],
      "text/plain": [
       "<IPython.core.display.HTML object>"
      ]
     },
     "metadata": {},
     "output_type": "display_data"
    }
   ],
   "source": [
    "samples = diffuser.sample(bs=8)"
   ]
  },
  {
   "cell_type": "code",
   "execution_count": 26,
   "id": "b3a257e3-b91b-495a-8b55-8993e863c1ea",
   "metadata": {},
   "outputs": [],
   "source": [
    "def to_image(img):\n",
    "    return wandb.Image(torch.cat(img.split(1), dim=-1).cpu().numpy())"
   ]
  },
  {
   "cell_type": "code",
   "execution_count": 27,
   "id": "c758f7ee-acfe-4bd9-b693-2f1f2ed780be",
   "metadata": {},
   "outputs": [],
   "source": [
    "imgs = [to_image(s) for s in samples]"
   ]
  },
  {
   "cell_type": "code",
   "execution_count": 28,
   "id": "82449497-6235-4f73-aa63-d3bf9380a51b",
   "metadata": {},
   "outputs": [
    {
     "data": {
      "image/png": "[encoded data removed]",
      "text/plain": [
       "<PIL.PngImagePlugin.PngImageFile image mode=L size=256x64>"
      ]
     },
     "execution_count": 28,
     "metadata": {},
     "output_type": "execute_result"
    }
   ],
   "source": [
    "imgs[2].image"
   ]
  },
  {
   "cell_type": "code",
   "execution_count": 29,
   "id": "7bb7a499-7624-4ab8-a918-66f485ba4ab0",
   "metadata": {},
   "outputs": [
    {
     "data": {
      "image/png": "[encoded data removed]",
      "text/plain": [
       "<Figure size 640x480 with 8 Axes>"
      ]
     },
     "metadata": {},
     "output_type": "display_data"
    }
   ],
   "source": [
    "show_images([im.image for im in imgs], nrows=len(imgs))"
   ]
  },
  {
   "cell_type": "markdown",
   "id": "258bc474-d678-4a2b-bfbc-2000fc7fcd64",
   "metadata": {},
   "source": [
    "autoregression"
   ]
  },
  {
   "cell_type": "code",
   "execution_count": 30,
   "id": "e70b0a12-37fd-4208-948b-110729a0c398",
   "metadata": {},
   "outputs": [],
   "source": [
    "past_frames, future_frames = get_batch(bs=32)"
   ]
  },
  {
   "cell_type": "code",
   "execution_count": 31,
   "id": "08b99c27-985d-49be-91fb-26ed885fcc42",
   "metadata": {},
   "outputs": [
    {
     "data": {
      "text/plain": [
       "torch.Size([32, 3, 64, 64])"
      ]
     },
     "execution_count": 31,
     "metadata": {},
     "output_type": "execute_result"
    }
   ],
   "source": [
    "past_frames.shape"
   ]
  },
  {
   "cell_type": "code",
   "execution_count": 32,
   "id": "d5ad10a2-3ffb-41e2-a173-9e542d816454",
   "metadata": {},
   "outputs": [],
   "source": [
    "past_frames_imgs = [to_image(s) for s in past_frames]"
   ]
  },
  {
   "cell_type": "code",
   "execution_count": 33,
   "id": "b4918405-51ed-4c40-beef-029f13e349db",
   "metadata": {},
   "outputs": [],
   "source": [
    "# show_images([f.image for f in past_frames_imgs], nrows=len(past_frames_imgs))"
   ]
  },
  {
   "cell_type": "code",
   "execution_count": 34,
   "id": "3ae9f5c8-8443-4689-a956-b51d7ac0b8f6",
   "metadata": {},
   "outputs": [],
   "source": [
    "model = diffuser.ema_model"
   ]
  },
  {
   "cell_type": "code",
   "execution_count": 35,
   "id": "caecf894-ec09-4150-af98-b3b30e41549a",
   "metadata": {},
   "outputs": [
    {
     "data": {
      "text/html": [
       "\n",
       "<style>\n",
       "    /* Turns off some styling */\n",
       "    progress {\n",
       "        /* gets rid of default border in Firefox and Opera. */\n",
       "        border: none;\n",
       "        /* Needs to be in here for Safari polyfill so background images work as expected. */\n",
       "        background-size: auto;\n",
       "    }\n",
       "    progress:not([value]), progress:not([value])::-webkit-progress-bar {\n",
       "        background: repeating-linear-gradient(45deg, #7e7e7e, #7e7e7e 10px, #5c5c5c 10px, #5c5c5c 20px);\n",
       "    }\n",
       "    .progress-bar-interrupted, .progress-bar-interrupted::-webkit-progress-bar {\n",
       "        background: #F44336;\n",
       "    }\n",
       "</style>\n"
      ],
      "text/plain": [
       "<IPython.core.display.HTML object>"
      ]
     },
     "metadata": {},
     "output_type": "display_data"
    },
    {
     "data": {
      "text/html": [
       "\n",
       "    <div>\n",
       "      <progress value='5' class='' max='5' style='width:300px; height:20px; vertical-align: middle;'></progress>\n",
       "      100.00% [5/5 04:59&lt;00:00]\n",
       "    </div>\n",
       "    "
      ],
      "text/plain": [
       "<IPython.core.display.HTML object>"
      ]
     },
     "metadata": {},
     "output_type": "display_data"
    },
    {
     "data": {
      "text/html": [
       "\n",
       "<style>\n",
       "    /* Turns off some styling */\n",
       "    progress {\n",
       "        /* gets rid of default border in Firefox and Opera. */\n",
       "        border: none;\n",
       "        /* Needs to be in here for Safari polyfill so background images work as expected. */\n",
       "        background-size: auto;\n",
       "    }\n",
       "    progress:not([value]), progress:not([value])::-webkit-progress-bar {\n",
       "        background: repeating-linear-gradient(45deg, #7e7e7e, #7e7e7e 10px, #5c5c5c 10px, #5c5c5c 20px);\n",
       "    }\n",
       "    .progress-bar-interrupted, .progress-bar-interrupted::-webkit-progress-bar {\n",
       "        background: #F44336;\n",
       "    }\n",
       "</style>\n"
      ],
      "text/plain": [
       "<IPython.core.display.HTML object>"
      ]
     },
     "metadata": {},
     "output_type": "display_data"
    },
    {
     "data": {
      "text/html": [],
      "text/plain": [
       "<IPython.core.display.HTML object>"
      ]
     },
     "metadata": {},
     "output_type": "display_data"
    },
    {
     "data": {
      "text/html": [
       "\n",
       "<style>\n",
       "    /* Turns off some styling */\n",
       "    progress {\n",
       "        /* gets rid of default border in Firefox and Opera. */\n",
       "        border: none;\n",
       "        /* Needs to be in here for Safari polyfill so background images work as expected. */\n",
       "        background-size: auto;\n",
       "    }\n",
       "    progress:not([value]), progress:not([value])::-webkit-progress-bar {\n",
       "        background: repeating-linear-gradient(45deg, #7e7e7e, #7e7e7e 10px, #5c5c5c 10px, #5c5c5c 20px);\n",
       "    }\n",
       "    .progress-bar-interrupted, .progress-bar-interrupted::-webkit-progress-bar {\n",
       "        background: #F44336;\n",
       "    }\n",
       "</style>\n"
      ],
      "text/plain": [
       "<IPython.core.display.HTML object>"
      ]
     },
     "metadata": {},
     "output_type": "display_data"
    },
    {
     "data": {
      "text/html": [],
      "text/plain": [
       "<IPython.core.display.HTML object>"
      ]
     },
     "metadata": {},
     "output_type": "display_data"
    },
    {
     "data": {
      "text/html": [
       "\n",
       "<style>\n",
       "    /* Turns off some styling */\n",
       "    progress {\n",
       "        /* gets rid of default border in Firefox and Opera. */\n",
       "        border: none;\n",
       "        /* Needs to be in here for Safari polyfill so background images work as expected. */\n",
       "        background-size: auto;\n",
       "    }\n",
       "    progress:not([value]), progress:not([value])::-webkit-progress-bar {\n",
       "        background: repeating-linear-gradient(45deg, #7e7e7e, #7e7e7e 10px, #5c5c5c 10px, #5c5c5c 20px);\n",
       "    }\n",
       "    .progress-bar-interrupted, .progress-bar-interrupted::-webkit-progress-bar {\n",
       "        background: #F44336;\n",
       "    }\n",
       "</style>\n"
      ],
      "text/plain": [
       "<IPython.core.display.HTML object>"
      ]
     },
     "metadata": {},
     "output_type": "display_data"
    },
    {
     "data": {
      "text/html": [],
      "text/plain": [
       "<IPython.core.display.HTML object>"
      ]
     },
     "metadata": {},
     "output_type": "display_data"
    },
    {
     "data": {
      "text/html": [
       "\n",
       "<style>\n",
       "    /* Turns off some styling */\n",
       "    progress {\n",
       "        /* gets rid of default border in Firefox and Opera. */\n",
       "        border: none;\n",
       "        /* Needs to be in here for Safari polyfill so background images work as expected. */\n",
       "        background-size: auto;\n",
       "    }\n",
       "    progress:not([value]), progress:not([value])::-webkit-progress-bar {\n",
       "        background: repeating-linear-gradient(45deg, #7e7e7e, #7e7e7e 10px, #5c5c5c 10px, #5c5c5c 20px);\n",
       "    }\n",
       "    .progress-bar-interrupted, .progress-bar-interrupted::-webkit-progress-bar {\n",
       "        background: #F44336;\n",
       "    }\n",
       "</style>\n"
      ],
      "text/plain": [
       "<IPython.core.display.HTML object>"
      ]
     },
     "metadata": {},
     "output_type": "display_data"
    },
    {
     "data": {
      "text/html": [],
      "text/plain": [
       "<IPython.core.display.HTML object>"
      ]
     },
     "metadata": {},
     "output_type": "display_data"
    },
    {
     "data": {
      "text/html": [
       "\n",
       "<style>\n",
       "    /* Turns off some styling */\n",
       "    progress {\n",
       "        /* gets rid of default border in Firefox and Opera. */\n",
       "        border: none;\n",
       "        /* Needs to be in here for Safari polyfill so background images work as expected. */\n",
       "        background-size: auto;\n",
       "    }\n",
       "    progress:not([value]), progress:not([value])::-webkit-progress-bar {\n",
       "        background: repeating-linear-gradient(45deg, #7e7e7e, #7e7e7e 10px, #5c5c5c 10px, #5c5c5c 20px);\n",
       "    }\n",
       "    .progress-bar-interrupted, .progress-bar-interrupted::-webkit-progress-bar {\n",
       "        background: #F44336;\n",
       "    }\n",
       "</style>\n"
      ],
      "text/plain": [
       "<IPython.core.display.HTML object>"
      ]
     },
     "metadata": {},
     "output_type": "display_data"
    },
    {
     "data": {
      "text/html": [],
      "text/plain": [
       "<IPython.core.display.HTML object>"
      ]
     },
     "metadata": {},
     "output_type": "display_data"
    }
   ],
   "source": [
    "future_frames = diffuser.sample_more(model, past_frames, n=5)"
   ]
  },
  {
   "cell_type": "code",
   "execution_count": 36,
   "id": "71c2d5df-b121-4249-bc2a-9d3c91915f1d",
   "metadata": {},
   "outputs": [
    {
     "data": {
      "text/plain": [
       "torch.Size([32, 5, 64, 64])"
      ]
     },
     "execution_count": 36,
     "metadata": {},
     "output_type": "execute_result"
    }
   ],
   "source": [
    "future_frames.shape"
   ]
  },
  {
   "cell_type": "code",
   "execution_count": 37,
   "id": "d5bae1f2-a547-49b7-947f-0068dab25dd6",
   "metadata": {},
   "outputs": [],
   "source": [
    "future_frames_imgs = [to_image(s) for s in future_frames]"
   ]
  },
  {
   "cell_type": "code",
   "execution_count": 38,
   "id": "944b6e83-c89d-43b5-8fe7-f9b135e37424",
   "metadata": {},
   "outputs": [],
   "source": [
    "# show_images([f.image for f in future_frames_imgs], nrows=len(future_frames_imgs))"
   ]
  },
  {
   "cell_type": "code",
   "execution_count": 39,
   "id": "94a3f026-4025-460a-91cc-f95507dd80d8",
   "metadata": {},
   "outputs": [],
   "source": [
    "def create_predictions_table(past_frames, future_frames):\n",
    "    past_frames_imgs = [to_image(s) for s in past_frames]\n",
    "    predictions = [to_image(s) for s in future_frames]\n",
    "    \n",
    "    table = wandb.Table(columns=[\"past\", \"preds\"])\n",
    "    for pf, pred in zip(past_frames_imgs, predictions):\n",
    "        table.add_data(pf, pred)\n",
    "    return table"
   ]
  },
  {
   "cell_type": "code",
   "execution_count": 40,
   "id": "fb4e5627-325b-461f-b59b-9224c20a958a",
   "metadata": {},
   "outputs": [],
   "source": [
    "t = create_predictions_table(past_frames, future_frames)"
   ]
  },
  {
   "cell_type": "code",
   "execution_count": 41,
   "id": "507cb877-bb24-4555-9c70-9cc1b5abc8ff",
   "metadata": {},
   "outputs": [
    {
     "data": {
      "text/html": [
       "Tracking run with wandb version 0.13.9"
      ],
      "text/plain": [
       "<IPython.core.display.HTML object>"
      ]
     },
     "metadata": {},
     "output_type": "display_data"
    },
    {
     "data": {
      "text/html": [
       "Run data is saved locally in <code>/home/tcapelle/wandb/torch_moving_mnist/nbs/wandb/run-20230116_220717-d2lej43c</code>"
      ],
      "text/plain": [
       "<IPython.core.display.HTML object>"
      ]
     },
     "metadata": {},
     "output_type": "display_data"
    },
    {
     "data": {
      "text/html": [
       "Syncing run <strong><a href=\"https://wandb.ai/capecape/ddpm_mmnist/runs/d2lej43c\" target=\"_blank\">expert-brook-64</a></strong> to <a href=\"https://wandb.ai/capecape/ddpm_mmnist\" target=\"_blank\">Weights & Biases</a> (<a href=\"https://wandb.me/run\" target=\"_blank\">docs</a>)<br/>"
      ],
      "text/plain": [
       "<IPython.core.display.HTML object>"
      ]
     },
     "metadata": {},
     "output_type": "display_data"
    },
    {
     "data": {
      "text/html": [
       " View project at <a href=\"https://wandb.ai/capecape/ddpm_mmnist\" target=\"_blank\">https://wandb.ai/capecape/ddpm_mmnist</a>"
      ],
      "text/plain": [
       "<IPython.core.display.HTML object>"
      ]
     },
     "metadata": {},
     "output_type": "display_data"
    },
    {
     "data": {
      "text/html": [
       " View run at <a href=\"https://wandb.ai/capecape/ddpm_mmnist/runs/d2lej43c\" target=\"_blank\">https://wandb.ai/capecape/ddpm_mmnist/runs/d2lej43c</a>"
      ],
      "text/plain": [
       "<IPython.core.display.HTML object>"
      ]
     },
     "metadata": {},
     "output_type": "display_data"
    },
    {
     "data": {
      "text/html": [
       "Waiting for W&B process to finish... <strong style=\"color:green\">(success).</strong>"
      ],
      "text/plain": [
       "<IPython.core.display.HTML object>"
      ]
     },
     "metadata": {},
     "output_type": "display_data"
    },
    {
     "data": {
      "text/html": [
       " View run <strong style=\"color:#cdcd00\">expert-brook-64</strong> at: <a href=\"https://wandb.ai/capecape/ddpm_mmnist/runs/d2lej43c\" target=\"_blank\">https://wandb.ai/capecape/ddpm_mmnist/runs/d2lej43c</a><br/>Synced 5 W&B file(s), 1 media file(s), 65 artifact file(s) and 0 other file(s)"
      ],
      "text/plain": [
       "<IPython.core.display.HTML object>"
      ]
     },
     "metadata": {},
     "output_type": "display_data"
    },
    {
     "data": {
      "text/html": [
       "Find logs at: <code>./wandb/run-20230116_220717-d2lej43c/logs</code>"
      ],
      "text/plain": [
       "<IPython.core.display.HTML object>"
      ]
     },
     "metadata": {},
     "output_type": "display_data"
    }
   ],
   "source": [
    "with wandb.init(project=\"ddpm_mmnist\", group=\"log_preds\", config=config) if config.use_wandb else nullcontext():\n",
    "    wandb.log({\"ema_preds_table\":t})"
   ]
  }
 ],
 "metadata": {
  "kernelspec": {
   "display_name": "Python 3 (ipykernel)",
   "language": "python",
   "name": "python3"
  },
  "language_info": {
   "codemirror_mode": {
    "name": "ipython",
    "version": 3
   },
   "file_extension": ".py",
   "mimetype": "text/x-python",
   "name": "python",
   "nbconvert_exporter": "python",
   "pygments_lexer": "ipython3",
   "version": "3.10.8"
  }
 },
 "nbformat": 4,
 "nbformat_minor": 5
}
